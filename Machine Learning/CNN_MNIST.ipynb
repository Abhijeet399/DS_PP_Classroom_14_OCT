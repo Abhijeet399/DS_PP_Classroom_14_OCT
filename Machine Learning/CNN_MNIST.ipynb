{
 "cells": [
  {
   "cell_type": "code",
   "execution_count": 1,
   "id": "e31a7b63",
   "metadata": {},
   "outputs": [],
   "source": [
    "import tensorflow as tf\n",
    "import keras\n",
    "import numpy as np\n",
    "import matplotlib.pyplot as plt"
   ]
  },
  {
   "cell_type": "code",
   "execution_count": 2,
   "id": "b1836638",
   "metadata": {},
   "outputs": [],
   "source": [
    "num_classes = 10"
   ]
  },
  {
   "cell_type": "code",
   "execution_count": 3,
   "id": "7f2912da",
   "metadata": {},
   "outputs": [],
   "source": [
    "(trainX, trainY), (testX, testY) = keras.datasets.mnist.load_data()"
   ]
  },
  {
   "cell_type": "code",
   "execution_count": 4,
   "id": "979f6e72",
   "metadata": {},
   "outputs": [
    {
     "name": "stdout",
     "output_type": "stream",
     "text": [
      "(60000, 28, 28) (10000, 28, 28) (60000,) (10000,)\n"
     ]
    }
   ],
   "source": [
    "print(trainX.shape, testX.shape, trainY.shape, testY.shape)"
   ]
  },
  {
   "cell_type": "code",
   "execution_count": 5,
   "id": "79f2be01",
   "metadata": {},
   "outputs": [
    {
     "name": "stdout",
     "output_type": "stream",
     "text": [
      "6\n",
      "255\n"
     ]
    },
    {
     "data": {
      "text/plain": [
       "<matplotlib.image.AxesImage at 0x13724eeedf0>"
      ]
     },
     "execution_count": 5,
     "metadata": {},
     "output_type": "execute_result"
    },
    {
     "data": {
      "image/png": "[encoded data removed]",
      "text/plain": [
       "<Figure size 640x480 with 1 Axes>"
      ]
     },
     "metadata": {},
     "output_type": "display_data"
    }
   ],
   "source": [
    "example = trainX[1100]\n",
    "print(trainY[1100])\n",
    "print(np.max(example))\n",
    "plt.imshow(example, cmap = 'gray')"
   ]
  },
  {
   "cell_type": "code",
   "execution_count": 6,
   "id": "5b9110bb",
   "metadata": {},
   "outputs": [],
   "source": [
    "trainX = trainX/255\n",
    "testX = testX/255"
   ]
  },
  {
   "cell_type": "code",
   "execution_count": 7,
   "id": "1a96696a",
   "metadata": {},
   "outputs": [
    {
     "name": "stdout",
     "output_type": "stream",
     "text": [
      "6\n"
     ]
    },
    {
     "data": {
      "text/plain": [
       "<matplotlib.image.AxesImage at 0x1372524b880>"
      ]
     },
     "execution_count": 7,
     "metadata": {},
     "output_type": "execute_result"
    },
    {
     "data": {
      "image/png": "[encoded data removed]",
      "text/plain": [
       "<Figure size 640x480 with 1 Axes>"
      ]
     },
     "metadata": {},
     "output_type": "display_data"
    }
   ],
   "source": [
    "example = trainX[1100]\n",
    "print(trainY[1100])\n",
    "plt.imshow(example, cmap = 'gray')"
   ]
  },
  {
   "cell_type": "code",
   "execution_count": 8,
   "id": "4b3da189",
   "metadata": {},
   "outputs": [
    {
     "data": {
      "text/plain": [
       "1.0"
      ]
     },
     "execution_count": 8,
     "metadata": {},
     "output_type": "execute_result"
    }
   ],
   "source": [
    "np.max(example)"
   ]
  },
  {
   "cell_type": "code",
   "execution_count": 9,
   "id": "15676bce",
   "metadata": {},
   "outputs": [
    {
     "name": "stdout",
     "output_type": "stream",
     "text": [
      "(60000, 28, 28)\n"
     ]
    }
   ],
   "source": [
    "print(trainX.shape)"
   ]
  },
  {
   "cell_type": "code",
   "execution_count": 10,
   "id": "078d1d54",
   "metadata": {},
   "outputs": [],
   "source": [
    "trainX = np.expand_dims(trainX, -1)\n",
    "testX = np.expand_dims(testX, -1)"
   ]
  },
  {
   "cell_type": "code",
   "execution_count": 11,
   "id": "95388941",
   "metadata": {},
   "outputs": [
    {
     "name": "stdout",
     "output_type": "stream",
     "text": [
      "(60000, 28, 28, 1)\n"
     ]
    }
   ],
   "source": [
    "print(trainX.shape)"
   ]
  },
  {
   "cell_type": "code",
   "execution_count": 12,
   "id": "07fb4655",
   "metadata": {},
   "outputs": [
    {
     "data": {
      "text/plain": [
       "5"
      ]
     },
     "execution_count": 12,
     "metadata": {},
     "output_type": "execute_result"
    }
   ],
   "source": [
    "trainY[0]"
   ]
  },
  {
   "cell_type": "code",
   "execution_count": 13,
   "id": "8b9c2497",
   "metadata": {},
   "outputs": [],
   "source": [
    "trainY = keras.utils.to_categorical(trainY)\n",
    "testY = keras.utils.to_categorical(testY)"
   ]
  },
  {
   "cell_type": "code",
   "execution_count": 14,
   "id": "bf3ce657",
   "metadata": {},
   "outputs": [
    {
     "data": {
      "text/plain": [
       "array([0., 0., 0., 0., 0., 1., 0., 0., 0., 0.], dtype=float32)"
      ]
     },
     "execution_count": 14,
     "metadata": {},
     "output_type": "execute_result"
    }
   ],
   "source": [
    "trainY[0]"
   ]
  },
  {
   "cell_type": "code",
   "execution_count": 15,
   "id": "c1037e66",
   "metadata": {},
   "outputs": [],
   "source": [
    "img_shape = (28, 28, 1)"
   ]
  },
  {
   "cell_type": "code",
   "execution_count": 16,
   "id": "61e0276d",
   "metadata": {},
   "outputs": [],
   "source": [
    "model = keras.Sequential([\n",
    "    keras.Input(shape = img_shape),\n",
    "    keras.layers.Conv2D(20, kernel_size = (3, 3), strides = (1, 1), padding = 'valid', activation = 'relu'), \n",
    "    keras.layers.MaxPool2D(pool_size = (3, 3), strides = (1, 1), padding = 'same'),\n",
    "    keras.layers.Conv2D(40, kernel_size = (3, 3), strides = (1, 1), padding = 'valid', activation = 'relu'), \n",
    "    keras.layers.MaxPool2D(pool_size = (3, 3), strides = (1, 1), padding = 'same'),\n",
    "    keras.layers.Conv2D(80, kernel_size = (3, 3), strides = (1, 1), padding = 'valid', activation = 'relu'), \n",
    "    keras.layers.MaxPool2D(pool_size = (3, 3), strides = (1, 1), padding = 'same'),\n",
    "#     keras.layers.Conv2D(160, kernel_size = (3, 3), strides = (1, 1), padding = 'valid', activation = 'relu'), \n",
    "#     keras.layers.MaxPool2D(pool_size = (3, 3), strides = (1, 1), padding = 'same'),\n",
    "#     keras.layers.Conv2D(320, kernel_size = (3, 3), strides = (1, 1), padding = 'valid', activation = 'relu'), \n",
    "#     keras.layers.MaxPool2D(pool_size = (3, 3), strides = (1, 1), padding = 'same'),\n",
    "    keras.layers.Flatten(),\n",
    "    keras.layers.Dense(500, activation = 'relu'),\n",
    "    keras.layers.Dense(10, activation = 'softmax'),\n",
    "])"
   ]
  },
  {
   "cell_type": "code",
   "execution_count": 17,
   "id": "d8a7823a",
   "metadata": {},
   "outputs": [
    {
     "name": "stdout",
     "output_type": "stream",
     "text": [
      "Model: \"sequential\"\n",
      "_________________________________________________________________\n",
      " Layer (type)                Output Shape              Param #   \n",
      "=================================================================\n",
      " conv2d (Conv2D)             (None, 26, 26, 20)        200       \n",
      "                                                                 \n",
      " max_pooling2d (MaxPooling2  (None, 26, 26, 20)        0         \n",
      " D)                                                              \n",
      "                                                                 \n",
      " conv2d_1 (Conv2D)           (None, 24, 24, 40)        7240      \n",
      "                                                                 \n",
      " max_pooling2d_1 (MaxPoolin  (None, 24, 24, 40)        0         \n",
      " g2D)                                                            \n",
      "                                                                 \n",
      " conv2d_2 (Conv2D)           (None, 22, 22, 80)        28880     \n",
      "                                                                 \n",
      " max_pooling2d_2 (MaxPoolin  (None, 22, 22, 80)        0         \n",
      " g2D)                                                            \n",
      "                                                                 \n",
      " flatten (Flatten)           (None, 38720)             0         \n",
      "                                                                 \n",
      " dense (Dense)               (None, 500)               19360500  \n",
      "                                                                 \n",
      " dense_1 (Dense)             (None, 10)                5010      \n",
      "                                                                 \n",
      "=================================================================\n",
      "Total params: 19401830 (74.01 MB)\n",
      "Trainable params: 19401830 (74.01 MB)\n",
      "Non-trainable params: 0 (0.00 Byte)\n",
      "_________________________________________________________________\n"
     ]
    }
   ],
   "source": [
    "model.summary()"
   ]
  },
  {
   "cell_type": "code",
   "execution_count": 18,
   "id": "406f0f39",
   "metadata": {},
   "outputs": [],
   "source": [
    "model.compile(optimizer = 'Adam', loss = tf.keras.losses.CategoricalCrossentropy(), metrics = ['accuracy', 'Recall', 'Precision'])"
   ]
  },
  {
   "cell_type": "code",
   "execution_count": 19,
   "id": "7f8759e9",
   "metadata": {},
   "outputs": [
    {
     "name": "stdout",
     "output_type": "stream",
     "text": [
      "Epoch 1/15\n",
      "120/120 [==============================] - 152s 1s/step - loss: 0.3531 - accuracy: 0.9076 - recall: 0.8696 - precision: 0.9529\n",
      "Epoch 2/15\n",
      "120/120 [==============================] - 153s 1s/step - loss: 0.0540 - accuracy: 0.9832 - recall: 0.9814 - precision: 0.9855\n",
      "Epoch 3/15\n",
      "120/120 [==============================] - 159s 1s/step - loss: 0.0396 - accuracy: 0.9875 - recall: 0.9865 - precision: 0.9889\n",
      "Epoch 4/15\n",
      "120/120 [==============================] - 160s 1s/step - loss: 0.0277 - accuracy: 0.9911 - recall: 0.9902 - precision: 0.9922\n",
      "Epoch 5/15\n",
      "120/120 [==============================] - 163s 1s/step - loss: 0.0226 - accuracy: 0.9927 - recall: 0.9921 - precision: 0.9933\n",
      "Epoch 6/15\n",
      "120/120 [==============================] - 167s 1s/step - loss: 0.0200 - accuracy: 0.9938 - recall: 0.9933 - precision: 0.9943\n",
      "Epoch 7/15\n",
      "120/120 [==============================] - 159s 1s/step - loss: 0.0154 - accuracy: 0.9949 - recall: 0.9945 - precision: 0.9953\n",
      "Epoch 8/15\n",
      "120/120 [==============================] - 168s 1s/step - loss: 0.0124 - accuracy: 0.9960 - recall: 0.9957 - precision: 0.9963\n",
      "Epoch 9/15\n",
      "120/120 [==============================] - 52917s 445s/step - loss: 0.0091 - accuracy: 0.9970 - recall: 0.9969 - precision: 0.9972\n",
      "Epoch 10/15\n",
      " 70/120 [================>.............] - ETA: 1:13 - loss: 0.0097 - accuracy: 0.9967 - recall: 0.9964 - precision: 0.9969"
     ]
    },
    {
     "name": "stderr",
     "output_type": "stream",
     "text": [
      "\n",
      "KeyboardInterrupt\n",
      "\n"
     ]
    }
   ],
   "source": [
    "hist = model.fit(trainX, trainY, batch_size=500, epochs = 15)"
   ]
  },
  {
   "cell_type": "code",
   "execution_count": null,
   "id": "3038f492",
   "metadata": {},
   "outputs": [],
   "source": []
  }
 ],
 "metadata": {
  "kernelspec": {
   "display_name": "Python 3 (ipykernel)",
   "language": "python",
   "name": "python3"
  },
  "language_info": {
   "codemirror_mode": {
    "name": "ipython",
    "version": 3
   },
   "file_extension": ".py",
   "mimetype": "text/x-python",
   "name": "python",
   "nbconvert_exporter": "python",
   "pygments_lexer": "ipython3",
   "version": "3.8.10"
  }
 },
 "nbformat": 4,
 "nbformat_minor": 5
}
