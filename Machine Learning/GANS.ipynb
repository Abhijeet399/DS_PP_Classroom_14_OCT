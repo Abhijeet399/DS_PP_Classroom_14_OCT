{
 "cells": [
  {
   "cell_type": "code",
   "execution_count": 1,
   "id": "ab6090ab",
   "metadata": {},
   "outputs": [],
   "source": [
    "import numpy as np\n",
    "import tensorflow \n",
    "import keras\n",
    "import matplotlib.pyplot as plt"
   ]
  },
  {
   "cell_type": "code",
   "execution_count": 3,
   "id": "f746c4ca",
   "metadata": {},
   "outputs": [],
   "source": [
    "def define_discriminator(in_shape = (28, 28, 1)):\n",
    "    model = keras.Sequential()\n",
    "    model.add(keras.layers.Conv2D(30, (3, 3), strides = (1, 1), padding = 'valid', input_shape = in_shape))\n",
    "    model.add(keras.layers.LeakyReLU(alpha = 0.2))\n",
    "    model.add(keras.layers.Dropout(0.3))\n",
    "    model.add(keras.layers.Conv2D(30, (3, 3), strides = (1, 1), padding = 'valid'))\n",
    "    model.add(keras.layers.LeakyReLU(alpha = 0.2))\n",
    "    model.add(keras.layers.Dropout(0.3))\n",
    "    model.add(keras.layers.Conv2D(30, (3, 3), strides = (1, 1), padding = 'valid'))\n",
    "    model.add(keras.layers.MaxPool2D((3, 3), strides = (1, 1), padding = 'valid'))\n",
    "    model.add(keras.layers.LeakyReLU(alpha = 0.2))\n",
    "    model.add(keras.layers.Dropout(0.3))\n",
    "    model.add(keras.layers.Flatten())\n",
    "    model.add(keras.layers.Dense(1, activation = 'sigmoid'))\n",
    "    \n",
    "    model.compile(optimizer = 'Adam', loss = 'binary_crossentropy', metrics = ['accuracy'])\n",
    "    return model"
   ]
  },
  {
   "cell_type": "code",
   "execution_count": 4,
   "id": "efec5ec8",
   "metadata": {},
   "outputs": [],
   "source": [
    "def define_generator(noise):\n",
    "    gen_model = keras.Sequential()\n",
    "    gen_model.add(keras.layers.Dense(150, input_dim = noise))\n",
    "    gen_model.add(keras.layers.LeakyReLU(alpha = 0.2))\n",
    "    gen_model.add(keras.layers.Dropout(0.3))\n",
    "    gen_model.add(keras.layers.Dense(250))\n",
    "    gen_model.add(keras.layers.LeakyReLU(alpha = 0.2))\n",
    "    gen_model.add(keras.layers.Dropout(0.3))\n",
    "    gen_model.add(keras.layers.Dense(450))\n",
    "    gen_model.add(keras.layers.LeakyReLU(alpha = 0.2))\n",
    "    gen_model.add(keras.layers.Dropout(0.3))\n",
    "    gen_model.add(keras.layers.Dense(600))\n",
    "    gen_model.add(keras.layers.LeakyReLU(alpha = 0.2))\n",
    "    gen_model.add(keras.layers.Dropout(0.3))\n",
    "    gen_model.add(keras.layers.Dense(700))\n",
    "    gen_model.add(keras.layers.LeakyReLU(alpha = 0.2))\n",
    "    gen_model.add(keras.layers.Dropout(0.3))\n",
    "    gen_model.add(keras.layers.Dense(784))\n",
    "    gen_model.add(keras.activations.sigmoid())\n",
    "    gen_model.add(keras.layers.Dropout(0.3))\n",
    "    return gen_model"
   ]
  },
  {
   "cell_type": "code",
   "execution_count": 5,
   "id": "819c888a",
   "metadata": {},
   "outputs": [],
   "source": [
    "def define_gan(g_model, d_model):\n",
    "    d_model.trainable = False\n",
    "    model = keras.Sequential()\n",
    "    model.add(g_model)\n",
    "    model.add(d_model)\n",
    "    \n",
    "    model.compile(optimizer = 'Adam', loss = 'binary_crossentropy', metrics = ['accuracy'])\n",
    "    \n",
    "    return model"
   ]
  },
  {
   "cell_type": "code",
   "execution_count": 6,
   "id": "6f9ed836",
   "metadata": {},
   "outputs": [],
   "source": [
    "def load_real_samples():\n",
    "    (train_X, _), (_, _) = keras.datasets.mnist.load_data()\n",
    "    train_X = np.expand_dims(train_X, axis = -1)\n",
    "    train_X = train_X/255\n",
    "    return train_X"
   ]
  },
  {
   "cell_type": "code",
   "execution_count": 7,
   "id": "730516e6",
   "metadata": {},
   "outputs": [],
   "source": [
    "def generate_real_samples(dataset, n_samples):\n",
    "    idx = np.random.randint(0, dataset.shape[0], n_samples)\n",
    "    X = dataset[idx]\n",
    "    Y = np.ones((n_samples, 1))\n",
    "    return X, Y"
   ]
  },
  {
   "cell_type": "code",
   "execution_count": null,
   "id": "d45fb705",
   "metadata": {},
   "outputs": [],
   "source": []
  }
 ],
 "metadata": {
  "kernelspec": {
   "display_name": "Python 3 (ipykernel)",
   "language": "python",
   "name": "python3"
  },
  "language_info": {
   "codemirror_mode": {
    "name": "ipython",
    "version": 3
   },
   "file_extension": ".py",
   "mimetype": "text/x-python",
   "name": "python",
   "nbconvert_exporter": "python",
   "pygments_lexer": "ipython3",
   "version": "3.8.10"
  }
 },
 "nbformat": 4,
 "nbformat_minor": 5
}
