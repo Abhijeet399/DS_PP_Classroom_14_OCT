{
 "cells": [
  {
   "cell_type": "code",
   "execution_count": 1,
   "id": "ab6090ab",
   "metadata": {},
   "outputs": [],
   "source": [
    "import numpy as np\n",
    "import tensorflow \n",
    "import keras\n",
    "import matplotlib.pyplot as plt"
   ]
  },
  {
   "cell_type": "code",
   "execution_count": 2,
   "id": "f746c4ca",
   "metadata": {},
   "outputs": [],
   "source": [
    "def define_discriminator(in_shape = (28, 28, 1)):\n",
    "    model = keras.Sequential()\n",
    "    model.add(keras.layers.Conv2D(30, (3, 3), strides = (1, 1), padding = 'valid', input_shape = in_shape))\n",
    "    model.add(keras.layers.LeakyReLU(alpha = 0.2))\n",
    "    model.add(keras.layers.Dropout(0.3))\n",
    "    model.add(keras.layers.Conv2D(30, (3, 3), strides = (1, 1), padding = 'valid'))\n",
    "    model.add(keras.layers.LeakyReLU(alpha = 0.2))\n",
    "    model.add(keras.layers.Dropout(0.3))\n",
    "    model.add(keras.layers.Conv2D(30, (3, 3), strides = (1, 1), padding = 'valid'))\n",
    "    model.add(keras.layers.MaxPool2D((3, 3), strides = (1, 1), padding = 'valid'))\n",
    "    model.add(keras.layers.LeakyReLU(alpha = 0.2))\n",
    "    model.add(keras.layers.Dropout(0.3))\n",
    "    model.add(keras.layers.Flatten())\n",
    "    model.add(keras.layers.Dense(1, activation = 'sigmoid'))\n",
    "    \n",
    "    model.compile(optimizer = 'Adam', loss = 'binary_crossentropy', metrics = ['accuracy'])\n",
    "    return model"
   ]
  },
  {
   "cell_type": "code",
   "execution_count": 3,
   "id": "efec5ec8",
   "metadata": {},
   "outputs": [],
   "source": [
    "def define_generator(noise):\n",
    "    gen_model = keras.Sequential()\n",
    "    gen_model.add(keras.layers.Dense(150, input_dim = noise))\n",
    "    gen_model.add(keras.layers.LeakyReLU(alpha = 0.2))\n",
    "    gen_model.add(keras.layers.Dropout(0.3))\n",
    "    gen_model.add(keras.layers.Dense(250))\n",
    "    gen_model.add(keras.layers.LeakyReLU(alpha = 0.2))\n",
    "    gen_model.add(keras.layers.Dropout(0.3))\n",
    "    gen_model.add(keras.layers.Dense(450))\n",
    "    gen_model.add(keras.layers.LeakyReLU(alpha = 0.2))\n",
    "    gen_model.add(keras.layers.Dropout(0.3))\n",
    "    gen_model.add(keras.layers.Dense(600))\n",
    "    gen_model.add(keras.layers.LeakyReLU(alpha = 0.2))\n",
    "    gen_model.add(keras.layers.Dropout(0.3))\n",
    "    gen_model.add(keras.layers.Dense(700))\n",
    "    gen_model.add(keras.layers.LeakyReLU(alpha = 0.2))\n",
    "    gen_model.add(keras.layers.Dropout(0.3))\n",
    "    gen_model.add(keras.layers.Dense(784, activation = 'sigmoid'))\n",
    "    gen_model.add(keras.layers.Reshape((28, 28, 1)))\n",
    "#     gen_model.add(keras.activations.sigmoid())\n",
    "    gen_model.add(keras.layers.Dropout(0.3))\n",
    "    return gen_model"
   ]
  },
  {
   "cell_type": "code",
   "execution_count": 4,
   "id": "819c888a",
   "metadata": {},
   "outputs": [],
   "source": [
    "def define_gan(g_model, d_model):\n",
    "    d_model.trainable = False\n",
    "    model = keras.Sequential()\n",
    "    model.add(g_model)\n",
    "    model.add(d_model)\n",
    "    \n",
    "    model.compile(optimizer = 'Adam', loss = 'binary_crossentropy', metrics = ['accuracy'])\n",
    "    \n",
    "    return model"
   ]
  },
  {
   "cell_type": "code",
   "execution_count": 5,
   "id": "6f9ed836",
   "metadata": {},
   "outputs": [],
   "source": [
    "def load_real_samples():\n",
    "    (train_X, _), (_, _) = keras.datasets.mnist.load_data()\n",
    "    train_X = np.expand_dims(train_X, axis = -1)\n",
    "    train_X = train_X/255\n",
    "    return train_X"
   ]
  },
  {
   "cell_type": "code",
   "execution_count": 6,
   "id": "730516e6",
   "metadata": {},
   "outputs": [],
   "source": [
    "def generate_real_samples(dataset, n_samples):\n",
    "    idx = np.random.randint(0, dataset.shape[0], n_samples)\n",
    "    X = dataset[idx]\n",
    "    Y = np.ones((n_samples, 1))\n",
    "    return X, Y"
   ]
  },
  {
   "cell_type": "code",
   "execution_count": 7,
   "id": "d45fb705",
   "metadata": {},
   "outputs": [],
   "source": [
    "def generate_latent_points(latent_dim, n_samples):\n",
    "    noise = np.random.randn(latent_dim * n_samples)\n",
    "    noise = noise.reshape(n_samples, latent_dim)\n",
    "    return noise"
   ]
  },
  {
   "cell_type": "code",
   "execution_count": 8,
   "id": "66654104",
   "metadata": {},
   "outputs": [],
   "source": [
    "def generate_fake_samples(g_model, latent_dim, n_samples):\n",
    "    g_input = generate_latent_points(latent_dim, n_samples)\n",
    "    fake_data = g_model.predict(g_input)\n",
    "    Y = np.zeros((n_samples, 1))\n",
    "    return fake_data, Y"
   ]
  },
  {
   "cell_type": "code",
   "execution_count": 9,
   "id": "fd94ba80",
   "metadata": {},
   "outputs": [],
   "source": [
    "def visualise(examples, epoch, n = 10):\n",
    "    for i in range(n * n):\n",
    "        plt.subplot(n, n, i + 1)\n",
    "        plt.imshow(examples[i, :, :, :], cmap = 'gray')\n",
    "    file_name = f'C:/Users/bhatt/OneDrive/Desktop/whisper-main/DS_PP_Classroom_14_Oct/Machine Learning/{epoch}_EPOCH.jpg'\n",
    "    plt.savefig(file_name)"
   ]
  },
  {
   "cell_type": "code",
   "execution_count": 10,
   "id": "13bf63d1",
   "metadata": {},
   "outputs": [],
   "source": [
    "def evaluate(g_model, d_model, dataset, latent_dim, epoch, batch = 100):\n",
    "    X_real, Y_real = generate_real_samples(dataset, batch)\n",
    "    \n",
    "    _, real_acc = d_model.evaluate(X_real, Y_real)\n",
    "    \n",
    "    X_fake, Y_fake = generate_fake_samples(g_model, latent_dim, batch)\n",
    "    \n",
    "    _, fake_acc = d_model.evaluate(X_fake, Y_fake)\n",
    "    \n",
    "    print(f'Accuracy real: {real_acc}, Accuracy fake: {fake_acc}')\n",
    "    \n",
    "    visualise(X_fake, epoch)"
   ]
  },
  {
   "cell_type": "code",
   "execution_count": 11,
   "id": "7cc06833",
   "metadata": {},
   "outputs": [],
   "source": [
    "def train(g_model, d_model, gan_model, dataset, latent_dim, epoch, batch_size = 100):\n",
    "    batch_per_epoch = int(dataset.shape[0]/batch_size)\n",
    "    half_batch = int(batch_size/2)\n",
    "    \n",
    "    for i in range(epoch):\n",
    "        for j in range(batch_per_epoch):\n",
    "            X_real, Y_real = generate_real_samples(dataset, batch_size)\n",
    "            \n",
    "            X_fake, Y_fake = generate_fake_samples(g_model, latent_dim, batch_size)\n",
    "            \n",
    "            d_loss_real, _ = d_model.train_on_batch(X_real, Y_real)\n",
    "            d_loss_fake, _ = d_model.train_on_batch(X_fake, Y_fake)\n",
    "            \n",
    "            total_d_loss = d_loss_fake + d_loss_real\n",
    "            \n",
    "            X_noise = generate_latent_points(latent_dim, batch_size)\n",
    "            \n",
    "            Y_g_model = np.ones((batch_size, 1))\n",
    "            \n",
    "            g_loss, _ = gan_model.train_on_batch(X_noise, Y_g_model)\n",
    "            \n",
    "            print(f'D_loss: {total_d_loss}, G_loss: {g_loss}')\n",
    "        \n",
    "        if (i % 10 == 0):\n",
    "            evaluate(g_model, d_model, dataset, latent_dim, i)"
   ]
  },
  {
   "cell_type": "code",
   "execution_count": null,
   "id": "a942b158",
   "metadata": {},
   "outputs": [],
   "source": [
    "latent_dim = 100\n",
    "\n",
    "d_model = define_discriminator()\n",
    "\n",
    "g_model = define_generator(latent_dim)\n",
    "\n",
    "gan_model = define_gan(g_model, d_model)\n",
    "\n",
    "dataset = load_real_samples()\n",
    "\n",
    "train(g_model, d_model, gan_model, dataset, latent_dim, 100)"
   ]
  },
  {
   "cell_type": "code",
   "execution_count": null,
   "id": "1054b011",
   "metadata": {},
   "outputs": [],
   "source": []
  }
 ],
 "metadata": {
  "kernelspec": {
   "display_name": "Python 3 (ipykernel)",
   "language": "python",
   "name": "python3"
  },
  "language_info": {
   "codemirror_mode": {
    "name": "ipython",
    "version": 3
   },
   "file_extension": ".py",
   "mimetype": "text/x-python",
   "name": "python",
   "nbconvert_exporter": "python",
   "pygments_lexer": "ipython3",
   "version": "3.8.10"
  }
 },
 "nbformat": 4,
 "nbformat_minor": 5
}
