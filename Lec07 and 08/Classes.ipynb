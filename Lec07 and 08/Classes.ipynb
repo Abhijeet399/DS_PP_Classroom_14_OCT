{
 "cells": [
  {
   "cell_type": "markdown",
   "id": "7c4a9ddf",
   "metadata": {},
   "source": [
    "# Classes"
   ]
  },
  {
   "cell_type": "code",
   "execution_count": 8,
   "id": "1b408f60",
   "metadata": {},
   "outputs": [
    {
     "name": "stdout",
     "output_type": "stream",
     "text": [
      "<class 'list'>\n"
     ]
    }
   ],
   "source": [
    "print(type([1, 2, 3]))"
   ]
  },
  {
   "cell_type": "code",
   "execution_count": 94,
   "id": "a93f4fcf",
   "metadata": {},
   "outputs": [
    {
     "name": "stdout",
     "output_type": "stream",
     "text": [
      "Abhijeet\n"
     ]
    }
   ],
   "source": [
    "class DataScience:\n",
    "    topic = 'Classes'\n",
    "    mentor = input()"
   ]
  },
  {
   "cell_type": "code",
   "execution_count": 95,
   "id": "d0318b24",
   "metadata": {},
   "outputs": [
    {
     "name": "stdout",
     "output_type": "stream",
     "text": [
      "Abhijeet\n"
     ]
    }
   ],
   "source": [
    "print(DataScience.mentor)"
   ]
  },
  {
   "cell_type": "code",
   "execution_count": 96,
   "id": "c090edf5",
   "metadata": {},
   "outputs": [],
   "source": [
    "rohan = DataScience()"
   ]
  },
  {
   "cell_type": "code",
   "execution_count": 97,
   "id": "a4aea5d9",
   "metadata": {},
   "outputs": [
    {
     "name": "stdout",
     "output_type": "stream",
     "text": [
      "Classes\n"
     ]
    }
   ],
   "source": [
    "print(rohan.topic)"
   ]
  },
  {
   "cell_type": "code",
   "execution_count": 98,
   "id": "2413c962",
   "metadata": {},
   "outputs": [],
   "source": [
    "peter = DataScience()"
   ]
  },
  {
   "cell_type": "code",
   "execution_count": 99,
   "id": "4686f8f7",
   "metadata": {},
   "outputs": [
    {
     "name": "stdout",
     "output_type": "stream",
     "text": [
      "Abhijeet\n"
     ]
    }
   ],
   "source": [
    "print(peter.mentor)"
   ]
  },
  {
   "cell_type": "code",
   "execution_count": 100,
   "id": "1c1cc0ef",
   "metadata": {},
   "outputs": [
    {
     "name": "stdout",
     "output_type": "stream",
     "text": [
      "Abhijeet Abhijeet Abhijeet\n"
     ]
    }
   ],
   "source": [
    "print(rohan.mentor, DataScience.mentor, peter.mentor)"
   ]
  },
  {
   "cell_type": "code",
   "execution_count": 101,
   "id": "4aa9e5b9",
   "metadata": {},
   "outputs": [
    {
     "name": "stdout",
     "output_type": "stream",
     "text": [
      "2220699879088 2220699879088 2220699879088\n"
     ]
    }
   ],
   "source": [
    "print(id(rohan.mentor), id(DataScience.mentor), id(peter.mentor))"
   ]
  },
  {
   "cell_type": "code",
   "execution_count": 102,
   "id": "34dd8f9f",
   "metadata": {},
   "outputs": [],
   "source": [
    "class Web_dev:\n",
    "    topic = 'HTML'\n",
    "    mentor = 'Abhijeet'"
   ]
  },
  {
   "cell_type": "code",
   "execution_count": 103,
   "id": "1587a3f9",
   "metadata": {},
   "outputs": [
    {
     "name": "stdout",
     "output_type": "stream",
     "text": [
      "Abhijeet\n"
     ]
    }
   ],
   "source": [
    "print(rohan.mentor)"
   ]
  },
  {
   "cell_type": "code",
   "execution_count": 104,
   "id": "823f4481",
   "metadata": {},
   "outputs": [],
   "source": [
    "xyz = Web_dev()"
   ]
  },
  {
   "cell_type": "code",
   "execution_count": 105,
   "id": "194d0ef1",
   "metadata": {},
   "outputs": [
    {
     "name": "stdout",
     "output_type": "stream",
     "text": [
      "2220685666032 2220699879088\n"
     ]
    }
   ],
   "source": [
    "print(id(Web_dev.mentor), id(DataScience.mentor))"
   ]
  },
  {
   "cell_type": "code",
   "execution_count": 106,
   "id": "bcb3fcd3",
   "metadata": {},
   "outputs": [
    {
     "name": "stdout",
     "output_type": "stream",
     "text": [
      "2220705235664 2220705236240\n"
     ]
    }
   ],
   "source": [
    "a = -6\n",
    "b = -6\n",
    "print(id(a), id(b))"
   ]
  },
  {
   "cell_type": "code",
   "execution_count": 107,
   "id": "ffeeef34",
   "metadata": {},
   "outputs": [
    {
     "data": {
      "text/plain": [
       "<__main__.Web_dev at 0x2050bf20b20>"
      ]
     },
     "execution_count": 107,
     "metadata": {},
     "output_type": "execute_result"
    }
   ],
   "source": [
    "xyz"
   ]
  },
  {
   "cell_type": "code",
   "execution_count": 108,
   "id": "0a6beea4",
   "metadata": {},
   "outputs": [
    {
     "name": "stdout",
     "output_type": "stream",
     "text": [
      "2220698496496 2220698496496 2220698496496\n",
      "ML ML ML\n"
     ]
    }
   ],
   "source": [
    "DataScience.topic = 'ML'\n",
    "print(id(rohan.topic), id(DataScience.topic), id(peter.topic))\n",
    "print(rohan.topic, peter.topic, DataScience.topic)"
   ]
  },
  {
   "cell_type": "code",
   "execution_count": 109,
   "id": "215e0a6e",
   "metadata": {},
   "outputs": [
    {
     "name": "stdout",
     "output_type": "stream",
     "text": [
      "2220678959792\n",
      "2220623311024\n"
     ]
    }
   ],
   "source": [
    "a = 'hello'\n",
    "print(id(a))\n",
    "a = 'hi'\n",
    "print(id(a))"
   ]
  },
  {
   "cell_type": "code",
   "execution_count": 110,
   "id": "75bfcf3c",
   "metadata": {},
   "outputs": [
    {
     "name": "stdout",
     "output_type": "stream",
     "text": [
      "Abhijeet Abhijeet Abhijeet\n"
     ]
    }
   ],
   "source": [
    "print(rohan.mentor, peter.mentor, DataScience.mentor)"
   ]
  },
  {
   "cell_type": "code",
   "execution_count": 111,
   "id": "41287fa6",
   "metadata": {},
   "outputs": [],
   "source": [
    "DataScience.place = 'Pitampura'"
   ]
  },
  {
   "cell_type": "code",
   "execution_count": 112,
   "id": "dcbd7733",
   "metadata": {},
   "outputs": [
    {
     "name": "stdout",
     "output_type": "stream",
     "text": [
      "Pitampura Pitampura Pitampura\n"
     ]
    }
   ],
   "source": [
    "print(rohan.place, peter.place, DataScience.place)"
   ]
  },
  {
   "cell_type": "code",
   "execution_count": 113,
   "id": "96dc5040",
   "metadata": {},
   "outputs": [],
   "source": [
    "rohan.place = 'BDG'\n",
    "peter.place = 'FD'"
   ]
  },
  {
   "cell_type": "code",
   "execution_count": 114,
   "id": "af1785c4",
   "metadata": {},
   "outputs": [
    {
     "data": {
      "text/plain": [
       "'Pitampura'"
      ]
     },
     "execution_count": 114,
     "metadata": {},
     "output_type": "execute_result"
    }
   ],
   "source": [
    "DataScience.place"
   ]
  },
  {
   "cell_type": "code",
   "execution_count": 115,
   "id": "4533be57",
   "metadata": {},
   "outputs": [
    {
     "name": "stdout",
     "output_type": "stream",
     "text": [
      "BDG FD\n"
     ]
    }
   ],
   "source": [
    "print(rohan.place, peter.place)"
   ]
  },
  {
   "cell_type": "code",
   "execution_count": 10,
   "id": "aaa21acd",
   "metadata": {},
   "outputs": [],
   "source": [
    "class DataScience:\n",
    "    topic = 'Classes'\n",
    "    mentor = 'Abhijeet'\n",
    "    \n",
    "    def details(self):\n",
    "        print('self.topic')\n",
    "        print('self.mentor')\n",
    "    \n",
    "    def sumer(self, a, b):\n",
    "        return a + b"
   ]
  },
  {
   "cell_type": "code",
   "execution_count": 3,
   "id": "f0916e0c",
   "metadata": {},
   "outputs": [
    {
     "name": "stdout",
     "output_type": "stream",
     "text": [
      "self.topic\n",
      "self.mentor\n",
      "None\n"
     ]
    }
   ],
   "source": [
    "print(DataScience.details(DataScience))"
   ]
  },
  {
   "cell_type": "code",
   "execution_count": 4,
   "id": "9fc7c684",
   "metadata": {},
   "outputs": [],
   "source": [
    "rohan = DataScience()"
   ]
  },
  {
   "cell_type": "code",
   "execution_count": 5,
   "id": "52d4376d",
   "metadata": {},
   "outputs": [
    {
     "name": "stdout",
     "output_type": "stream",
     "text": [
      "self.topic\n",
      "self.mentor\n",
      "None\n"
     ]
    }
   ],
   "source": [
    "print(rohan.details())"
   ]
  },
  {
   "cell_type": "code",
   "execution_count": 6,
   "id": "f590f88c",
   "metadata": {},
   "outputs": [
    {
     "name": "stdout",
     "output_type": "stream",
     "text": [
      "self.topic\n",
      "self.mentor\n"
     ]
    }
   ],
   "source": [
    "DataScience.details('hello')"
   ]
  },
  {
   "cell_type": "code",
   "execution_count": 8,
   "id": "3dcd14b0",
   "metadata": {},
   "outputs": [
    {
     "data": {
      "text/plain": [
       "3"
      ]
     },
     "execution_count": 8,
     "metadata": {},
     "output_type": "execute_result"
    }
   ],
   "source": [
    "DataScience().sumer(1, 2)"
   ]
  },
  {
   "cell_type": "code",
   "execution_count": 9,
   "id": "fd2fa974",
   "metadata": {},
   "outputs": [
    {
     "data": {
      "text/plain": [
       "9773"
      ]
     },
     "execution_count": 9,
     "metadata": {},
     "output_type": "execute_result"
    }
   ],
   "source": [
    "DataScience.sumer(DataScience, 3230, 6543)"
   ]
  },
  {
   "cell_type": "code",
   "execution_count": 11,
   "id": "0b029221",
   "metadata": {},
   "outputs": [],
   "source": [
    "kunal = DataScience()"
   ]
  },
  {
   "cell_type": "code",
   "execution_count": 12,
   "id": "c699130d",
   "metadata": {},
   "outputs": [
    {
     "data": {
      "text/plain": [
       "'Abhijeet'"
      ]
     },
     "execution_count": 12,
     "metadata": {},
     "output_type": "execute_result"
    }
   ],
   "source": [
    "kunal.mentor"
   ]
  },
  {
   "cell_type": "code",
   "execution_count": 13,
   "id": "42b9f232",
   "metadata": {},
   "outputs": [],
   "source": [
    "kunal.age = 21"
   ]
  },
  {
   "cell_type": "code",
   "execution_count": 15,
   "id": "0783b307",
   "metadata": {},
   "outputs": [
    {
     "data": {
      "text/plain": [
       "21"
      ]
     },
     "execution_count": 15,
     "metadata": {},
     "output_type": "execute_result"
    }
   ],
   "source": [
    "kunal.age"
   ]
  },
  {
   "cell_type": "code",
   "execution_count": 18,
   "id": "83088665",
   "metadata": {},
   "outputs": [],
   "source": [
    "DataScience.mon = 'dec'"
   ]
  },
  {
   "cell_type": "code",
   "execution_count": 20,
   "id": "f44b0335",
   "metadata": {},
   "outputs": [],
   "source": [
    "kunal.mon = 'Jan'"
   ]
  },
  {
   "cell_type": "code",
   "execution_count": 21,
   "id": "3aa1b974",
   "metadata": {},
   "outputs": [
    {
     "data": {
      "text/plain": [
       "'dec'"
      ]
     },
     "execution_count": 21,
     "metadata": {},
     "output_type": "execute_result"
    }
   ],
   "source": [
    "DataScience.mon"
   ]
  },
  {
   "cell_type": "code",
   "execution_count": 22,
   "id": "f02c1df2",
   "metadata": {},
   "outputs": [
    {
     "data": {
      "text/plain": [
       "'Jan'"
      ]
     },
     "execution_count": 22,
     "metadata": {},
     "output_type": "execute_result"
    }
   ],
   "source": [
    "kunal.mon"
   ]
  },
  {
   "cell_type": "code",
   "execution_count": 44,
   "id": "0071f26f",
   "metadata": {},
   "outputs": [],
   "source": [
    "class DataScience:\n",
    "    topic = 'ML'\n",
    "    mentor = 'Abhijeet'\n",
    "#     name = 'Nun'\n",
    "    \n",
    "    def update_Details(self, name):\n",
    "        self.name = name\n",
    "    \n",
    "    def details(self):\n",
    "        print('self.topic')\n",
    "        print('self.mentor')\n",
    "    \n",
    "    def sumer(self, a, b):\n",
    "        return a + b"
   ]
  },
  {
   "cell_type": "code",
   "execution_count": 45,
   "id": "9a6fe616",
   "metadata": {},
   "outputs": [],
   "source": [
    "kunal = DataScience()\n",
    "kunal.update_Details('kunal')"
   ]
  },
  {
   "cell_type": "code",
   "execution_count": 46,
   "id": "9445c73b",
   "metadata": {},
   "outputs": [
    {
     "name": "stdout",
     "output_type": "stream",
     "text": [
      "kunal\n"
     ]
    }
   ],
   "source": [
    "print(kunal.name)"
   ]
  },
  {
   "cell_type": "code",
   "execution_count": 48,
   "id": "a6ad2875",
   "metadata": {},
   "outputs": [
    {
     "name": "stdout",
     "output_type": "stream",
     "text": [
      "Abhishek\n"
     ]
    }
   ],
   "source": [
    "abhishek = DataScience()\n",
    "abhishek.update_Details('Abhishek')\n",
    "print(abhishek.name)"
   ]
  },
  {
   "cell_type": "code",
   "execution_count": 58,
   "id": "08aba85f",
   "metadata": {},
   "outputs": [],
   "source": [
    "class DataScience:\n",
    "    topic = 'ML'\n",
    "    mentor = 'Abhijeet'\n",
    "#     name = 'Nun'\n",
    "    \n",
    "    def __init__(self, name, age):\n",
    "        print('Done')\n",
    "        self.name = name\n",
    "        self.age = age\n",
    "        \n",
    "    def update_Details(self, name):\n",
    "        self.name = name\n",
    "    \n",
    "    def details(self):\n",
    "        print('self.topic')\n",
    "        print('self.mentor')\n",
    "    \n",
    "    def sumer(self, a, b):\n",
    "        return a + b"
   ]
  },
  {
   "cell_type": "code",
   "execution_count": 59,
   "id": "14094bbf",
   "metadata": {},
   "outputs": [
    {
     "name": "stdout",
     "output_type": "stream",
     "text": [
      "Done\n",
      "Ayushman 21\n"
     ]
    }
   ],
   "source": [
    "ayushman = DataScience('Ayushman', 21)\n",
    "print(ayushman.name, ayushman.age)"
   ]
  },
  {
   "cell_type": "code",
   "execution_count": 62,
   "id": "01ed8608",
   "metadata": {},
   "outputs": [
    {
     "name": "stdout",
     "output_type": "stream",
     "text": [
      "Done\n"
     ]
    }
   ],
   "source": [
    "xyz = DataScience('XYZ', 0)"
   ]
  },
  {
   "cell_type": "code",
   "execution_count": 60,
   "id": "c4d29d1d",
   "metadata": {},
   "outputs": [
    {
     "ename": "AttributeError",
     "evalue": "type object 'DataScience' has no attribute 'name'",
     "output_type": "error",
     "traceback": [
      "\u001b[1;31m---------------------------------------------------------------------------\u001b[0m",
      "\u001b[1;31mAttributeError\u001b[0m                            Traceback (most recent call last)",
      "Cell \u001b[1;32mIn[60], line 1\u001b[0m\n\u001b[1;32m----> 1\u001b[0m \u001b[43mDataScience\u001b[49m\u001b[38;5;241;43m.\u001b[39;49m\u001b[43mname\u001b[49m\n",
      "\u001b[1;31mAttributeError\u001b[0m: type object 'DataScience' has no attribute 'name'"
     ]
    }
   ],
   "source": [
    "DataScience.name"
   ]
  },
  {
   "cell_type": "code",
   "execution_count": 61,
   "id": "e07fe317",
   "metadata": {},
   "outputs": [
    {
     "name": "stdout",
     "output_type": "stream",
     "text": [
      "2902554331312 2902554331312\n"
     ]
    }
   ],
   "source": [
    "print(id(DataScience.topic), id(ayushman.topic))"
   ]
  },
  {
   "cell_type": "code",
   "execution_count": 64,
   "id": "efe974af",
   "metadata": {},
   "outputs": [
    {
     "name": "stdout",
     "output_type": "stream",
     "text": [
      "140709758375664 140709758376336\n"
     ]
    }
   ],
   "source": [
    "print(id(xyz.age), id(ayushman.age))"
   ]
  },
  {
   "cell_type": "code",
   "execution_count": 87,
   "id": "ab15c2dd",
   "metadata": {},
   "outputs": [],
   "source": [
    "class Dog:\n",
    "    \n",
    "#     total_tricks = []\n",
    "    thing = 'Dog'\n",
    "    \n",
    "    def __init__(self, name, breed, tricks = []):\n",
    "        self.name = name\n",
    "        self.breed = breed\n",
    "        self.total_tricks = tricks\n",
    "        \n",
    "    def update_tricks(self, trick):\n",
    "        self.total_tricks.append(trick)"
   ]
  },
  {
   "cell_type": "code",
   "execution_count": 88,
   "id": "ec94fb91",
   "metadata": {},
   "outputs": [],
   "source": [
    "tommy = Dog('Tommy', 'German Shaphard')"
   ]
  },
  {
   "cell_type": "code",
   "execution_count": 89,
   "id": "067bbc8b",
   "metadata": {},
   "outputs": [],
   "source": [
    "sheru = Dog('Sheru', 'Husky', tricks=[])"
   ]
  },
  {
   "cell_type": "code",
   "execution_count": 90,
   "id": "708d5feb",
   "metadata": {},
   "outputs": [],
   "source": [
    "tommy.update_tricks('Stand')\n",
    "tommy.update_tricks('Backflip')"
   ]
  },
  {
   "cell_type": "code",
   "execution_count": 91,
   "id": "d29ac25c",
   "metadata": {},
   "outputs": [],
   "source": [
    "sheru.update_tricks('Sit')"
   ]
  },
  {
   "cell_type": "code",
   "execution_count": 92,
   "id": "874cdf74",
   "metadata": {},
   "outputs": [
    {
     "name": "stdout",
     "output_type": "stream",
     "text": [
      "['Stand', 'Backflip'] ['Sit'] ['Stand', 'Backflip']\n"
     ]
    }
   ],
   "source": [
    "print(tommy.total_tricks, sheru.total_tricks, Dog('a', 'b').total_tricks)"
   ]
  },
  {
   "cell_type": "code",
   "execution_count": 93,
   "id": "9be5445e",
   "metadata": {},
   "outputs": [
    {
     "name": "stdout",
     "output_type": "stream",
     "text": [
      "Done\n"
     ]
    }
   ],
   "source": [
    "a = DataScience('a', 2)"
   ]
  },
  {
   "cell_type": "code",
   "execution_count": 94,
   "id": "183a1fe0",
   "metadata": {},
   "outputs": [
    {
     "name": "stdout",
     "output_type": "stream",
     "text": [
      "DL ML\n"
     ]
    }
   ],
   "source": [
    "a.topic = 'DL'\n",
    "print(a.topic, DataScience.topic)"
   ]
  },
  {
   "cell_type": "code",
   "execution_count": 95,
   "id": "d06dc3ad",
   "metadata": {},
   "outputs": [],
   "source": [
    "tommy.thing = 'cat'"
   ]
  },
  {
   "cell_type": "code",
   "execution_count": 99,
   "id": "d17ef30f",
   "metadata": {},
   "outputs": [
    {
     "data": {
      "text/plain": [
       "('cat', 'Dog', 'Dog')"
      ]
     },
     "execution_count": 99,
     "metadata": {},
     "output_type": "execute_result"
    }
   ],
   "source": [
    "tommy.thing, Dog.thing, sheru.thing"
   ]
  },
  {
   "cell_type": "code",
   "execution_count": 100,
   "id": "4667abf2",
   "metadata": {},
   "outputs": [],
   "source": [
    "# Access Modifiers"
   ]
  },
  {
   "cell_type": "code",
   "execution_count": 183,
   "id": "c27b4d22",
   "metadata": {},
   "outputs": [],
   "source": [
    "class Google_Account:\n",
    "    \n",
    "    otp = 2023\n",
    "    \n",
    "    def __init__(self, name, email, password):\n",
    "        self.name = name\n",
    "        self._email = email\n",
    "        self.__password = password\n",
    "        \n",
    "    def change_Mail(self, new_eamil):\n",
    "        self.email = new_eamil\n",
    "        \n",
    "    def __show_pass(self, otp):\n",
    "        if otp == self.otp:\n",
    "            print(self.__password)\n",
    "        \n",
    "    def show_pass(self, otp):\n",
    "        self.otp = 4096\n",
    "        self.__show_pass(otp)    "
   ]
  },
  {
   "cell_type": "code",
   "execution_count": 184,
   "id": "a818a94f",
   "metadata": {},
   "outputs": [],
   "source": [
    "abhijeet = Google_Account('Abhijeet', 'abc@cb.com', '12345678')"
   ]
  },
  {
   "cell_type": "code",
   "execution_count": 185,
   "id": "0d573ac4",
   "metadata": {},
   "outputs": [
    {
     "ename": "AttributeError",
     "evalue": "'Google_Account' object has no attribute 'email'",
     "output_type": "error",
     "traceback": [
      "\u001b[1;31m---------------------------------------------------------------------------\u001b[0m",
      "\u001b[1;31mAttributeError\u001b[0m                            Traceback (most recent call last)",
      "Cell \u001b[1;32mIn[185], line 1\u001b[0m\n\u001b[1;32m----> 1\u001b[0m \u001b[38;5;28mprint\u001b[39m(\u001b[43mabhijeet\u001b[49m\u001b[38;5;241;43m.\u001b[39;49m\u001b[43memail\u001b[49m)\n",
      "\u001b[1;31mAttributeError\u001b[0m: 'Google_Account' object has no attribute 'email'"
     ]
    }
   ],
   "source": [
    "print(abhijeet.email)"
   ]
  },
  {
   "cell_type": "code",
   "execution_count": 186,
   "id": "d169e3eb",
   "metadata": {},
   "outputs": [],
   "source": [
    "abhijeet.change_Mail('xyz@cb.com')"
   ]
  },
  {
   "cell_type": "code",
   "execution_count": 187,
   "id": "d30fcf08",
   "metadata": {},
   "outputs": [
    {
     "name": "stdout",
     "output_type": "stream",
     "text": [
      "xyz@cb.com\n"
     ]
    }
   ],
   "source": [
    "print(abhijeet.email)"
   ]
  },
  {
   "cell_type": "code",
   "execution_count": 188,
   "id": "44968dc2",
   "metadata": {},
   "outputs": [
    {
     "ename": "AttributeError",
     "evalue": "'Google_Account' object has no attribute '__password'",
     "output_type": "error",
     "traceback": [
      "\u001b[1;31m---------------------------------------------------------------------------\u001b[0m",
      "\u001b[1;31mAttributeError\u001b[0m                            Traceback (most recent call last)",
      "Cell \u001b[1;32mIn[188], line 1\u001b[0m\n\u001b[1;32m----> 1\u001b[0m \u001b[38;5;28mprint\u001b[39m(\u001b[43mabhijeet\u001b[49m\u001b[38;5;241;43m.\u001b[39;49m\u001b[43m__password\u001b[49m)\n",
      "\u001b[1;31mAttributeError\u001b[0m: 'Google_Account' object has no attribute '__password'"
     ]
    }
   ],
   "source": [
    "print(abhijeet.__password)"
   ]
  },
  {
   "cell_type": "code",
   "execution_count": 189,
   "id": "4371b879",
   "metadata": {},
   "outputs": [],
   "source": [
    "# abhijeet.password = '0123456789'"
   ]
  },
  {
   "cell_type": "code",
   "execution_count": 190,
   "id": "3dbf97f8",
   "metadata": {},
   "outputs": [
    {
     "ename": "AttributeError",
     "evalue": "'Google_Account' object has no attribute 'password'",
     "output_type": "error",
     "traceback": [
      "\u001b[1;31m---------------------------------------------------------------------------\u001b[0m",
      "\u001b[1;31mAttributeError\u001b[0m                            Traceback (most recent call last)",
      "Cell \u001b[1;32mIn[190], line 1\u001b[0m\n\u001b[1;32m----> 1\u001b[0m \u001b[38;5;28mprint\u001b[39m(\u001b[43mabhijeet\u001b[49m\u001b[38;5;241;43m.\u001b[39;49m\u001b[43mpassword\u001b[49m)\n",
      "\u001b[1;31mAttributeError\u001b[0m: 'Google_Account' object has no attribute 'password'"
     ]
    }
   ],
   "source": [
    "print(abhijeet.password)"
   ]
  },
  {
   "cell_type": "code",
   "execution_count": 191,
   "id": "6df27453",
   "metadata": {},
   "outputs": [
    {
     "name": "stdout",
     "output_type": "stream",
     "text": [
      "12345678\n"
     ]
    }
   ],
   "source": [
    "abhijeet.show_pass(4096)"
   ]
  },
  {
   "cell_type": "code",
   "execution_count": 192,
   "id": "ad7a5ecc",
   "metadata": {},
   "outputs": [
    {
     "ename": "AttributeError",
     "evalue": "'Google_Account' object has no attribute '__show_pass'",
     "output_type": "error",
     "traceback": [
      "\u001b[1;31m---------------------------------------------------------------------------\u001b[0m",
      "\u001b[1;31mAttributeError\u001b[0m                            Traceback (most recent call last)",
      "Cell \u001b[1;32mIn[192], line 1\u001b[0m\n\u001b[1;32m----> 1\u001b[0m \u001b[43mabhijeet\u001b[49m\u001b[38;5;241;43m.\u001b[39;49m\u001b[43m__show_pass\u001b[49m(\u001b[38;5;241m4096\u001b[39m)\n",
      "\u001b[1;31mAttributeError\u001b[0m: 'Google_Account' object has no attribute '__show_pass'"
     ]
    }
   ],
   "source": [
    "abhijeet.__show_pass(4096)"
   ]
  },
  {
   "cell_type": "code",
   "execution_count": 195,
   "id": "263a9491",
   "metadata": {},
   "outputs": [],
   "source": [
    "abhijeet._email = 'xyz@cb.com'"
   ]
  },
  {
   "cell_type": "code",
   "execution_count": 196,
   "id": "8332c3d1",
   "metadata": {},
   "outputs": [
    {
     "data": {
      "text/plain": [
       "'xyz@cb.com'"
      ]
     },
     "execution_count": 196,
     "metadata": {},
     "output_type": "execute_result"
    }
   ],
   "source": [
    "abhijeet._email"
   ]
  },
  {
   "cell_type": "code",
   "execution_count": null,
   "id": "1e4ece20",
   "metadata": {},
   "outputs": [],
   "source": []
  }
 ],
 "metadata": {
  "kernelspec": {
   "display_name": "Python 3 (ipykernel)",
   "language": "python",
   "name": "python3"
  },
  "language_info": {
   "codemirror_mode": {
    "name": "ipython",
    "version": 3
   },
   "file_extension": ".py",
   "mimetype": "text/x-python",
   "name": "python",
   "nbconvert_exporter": "python",
   "pygments_lexer": "ipython3",
   "version": "3.8.10"
  }
 },
 "nbformat": 4,
 "nbformat_minor": 5
}
