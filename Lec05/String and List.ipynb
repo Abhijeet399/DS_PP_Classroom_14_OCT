{
 "cells": [
  {
   "cell_type": "code",
   "execution_count": 72,
   "id": "f9e04e63",
   "metadata": {},
   "outputs": [],
   "source": [
    "word = 'niitiin'"
   ]
  },
  {
   "cell_type": "code",
   "execution_count": 73,
   "id": "649d80e7",
   "metadata": {},
   "outputs": [
    {
     "name": "stdout",
     "output_type": "stream",
     "text": [
      "7\n"
     ]
    }
   ],
   "source": [
    "print(len(word))"
   ]
  },
  {
   "cell_type": "code",
   "execution_count": 74,
   "id": "c133262d",
   "metadata": {},
   "outputs": [],
   "source": [
    "def sub_string(word, i, j):\n",
    "    for k in range(i, j+1):\n",
    "        print(word[k], end='')"
   ]
  },
  {
   "cell_type": "code",
   "execution_count": 75,
   "id": "1907b078",
   "metadata": {},
   "outputs": [
    {
     "name": "stdout",
     "output_type": "stream",
     "text": [
      "ii"
     ]
    }
   ],
   "source": [
    "sub_string(word, 1, 2)"
   ]
  },
  {
   "cell_type": "code",
   "execution_count": 76,
   "id": "369331d9",
   "metadata": {},
   "outputs": [],
   "source": [
    "def ispalin_sub_string(word):\n",
    "    \n",
    "    for i in range(len(word)):\n",
    "        for j in range(i, len(word)):\n",
    "            sub_string(word, i, j)\n",
    "            print()"
   ]
  },
  {
   "cell_type": "code",
   "execution_count": 77,
   "id": "7fb4465b",
   "metadata": {},
   "outputs": [
    {
     "name": "stdout",
     "output_type": "stream",
     "text": [
      "n\n",
      "ni\n",
      "nii\n",
      "niit\n",
      "niiti\n",
      "niitii\n",
      "niitiin\n",
      "i\n",
      "ii\n",
      "iit\n",
      "iiti\n",
      "iitii\n",
      "iitiin\n",
      "i\n",
      "it\n",
      "iti\n",
      "itii\n",
      "itiin\n",
      "t\n",
      "ti\n",
      "tii\n",
      "tiin\n",
      "i\n",
      "ii\n",
      "iin\n",
      "i\n",
      "in\n",
      "n\n"
     ]
    }
   ],
   "source": [
    "ispalin_sub_string(word)"
   ]
  },
  {
   "cell_type": "code",
   "execution_count": 15,
   "id": "b87f243f",
   "metadata": {},
   "outputs": [],
   "source": [
    "string = 'Hello_my_name_is_Abhijeet'"
   ]
  },
  {
   "cell_type": "code",
   "execution_count": 19,
   "id": "6588b777",
   "metadata": {},
   "outputs": [
    {
     "name": "stdout",
     "output_type": "stream",
     "text": [
      "['Hello_', 'y_na', 'e_is_Abhijeet']\n"
     ]
    }
   ],
   "source": [
    "print(string.split('m'))"
   ]
  },
  {
   "cell_type": "code",
   "execution_count": 18,
   "id": "c11f2222",
   "metadata": {},
   "outputs": [],
   "source": [
    "string.split?"
   ]
  },
  {
   "cell_type": "code",
   "execution_count": 20,
   "id": "51f2d0f6",
   "metadata": {},
   "outputs": [],
   "source": [
    "string = string.replace('A', 'a')"
   ]
  },
  {
   "cell_type": "code",
   "execution_count": 21,
   "id": "a189c6da",
   "metadata": {},
   "outputs": [
    {
     "data": {
      "text/plain": [
       "'Hello_my_name_is_abhijeet'"
      ]
     },
     "execution_count": 21,
     "metadata": {},
     "output_type": "execute_result"
    }
   ],
   "source": [
    "string"
   ]
  },
  {
   "cell_type": "code",
   "execution_count": 22,
   "id": "c7b91e73",
   "metadata": {},
   "outputs": [
    {
     "data": {
      "text/plain": [
       "4"
      ]
     },
     "execution_count": 22,
     "metadata": {},
     "output_type": "execute_result"
    }
   ],
   "source": [
    "string.count('e')"
   ]
  },
  {
   "cell_type": "code",
   "execution_count": 29,
   "id": "9a57de36",
   "metadata": {},
   "outputs": [],
   "source": [
    "# Lists"
   ]
  },
  {
   "cell_type": "code",
   "execution_count": 31,
   "id": "2a1ea865",
   "metadata": {},
   "outputs": [],
   "source": [
    "l = [1, 3, 12, 'abhijeet', 2.001, 'xyz', [1, 2, '3'], range]"
   ]
  },
  {
   "cell_type": "code",
   "execution_count": 32,
   "id": "8cfaf918",
   "metadata": {},
   "outputs": [
    {
     "data": {
      "text/plain": [
       "list"
      ]
     },
     "execution_count": 32,
     "metadata": {},
     "output_type": "execute_result"
    }
   ],
   "source": [
    "type(l)"
   ]
  },
  {
   "cell_type": "code",
   "execution_count": 33,
   "id": "8015c0e6",
   "metadata": {},
   "outputs": [
    {
     "name": "stdout",
     "output_type": "stream",
     "text": [
      "1\n",
      "3\n",
      "12\n",
      "abhijeet\n",
      "2.001\n",
      "xyz\n",
      "[1, 2, '3']\n",
      "<class 'range'>\n"
     ]
    }
   ],
   "source": [
    "for i in l:\n",
    "    print(i)"
   ]
  },
  {
   "cell_type": "code",
   "execution_count": 39,
   "id": "ad8e50b6",
   "metadata": {},
   "outputs": [
    {
     "data": {
      "text/plain": [
       "'xyz'"
      ]
     },
     "execution_count": 39,
     "metadata": {},
     "output_type": "execute_result"
    }
   ],
   "source": [
    "l[-3]"
   ]
  },
  {
   "cell_type": "code",
   "execution_count": 40,
   "id": "8ccec860",
   "metadata": {},
   "outputs": [],
   "source": [
    "l.append(200)"
   ]
  },
  {
   "cell_type": "code",
   "execution_count": 41,
   "id": "c4dd791e",
   "metadata": {},
   "outputs": [
    {
     "data": {
      "text/plain": [
       "[1, 3, 12, 'abhijeet', 2.001, 'xyz', [1, 2, '3'], range, 200]"
      ]
     },
     "execution_count": 41,
     "metadata": {},
     "output_type": "execute_result"
    }
   ],
   "source": [
    "l"
   ]
  },
  {
   "cell_type": "code",
   "execution_count": 59,
   "id": "0248bac9",
   "metadata": {},
   "outputs": [],
   "source": [
    "def to_split(string):\n",
    "    string = string.strip()\n",
    "    temp_ans = ''\n",
    "    ans = []\n",
    "    \n",
    "    for i in string:\n",
    "        if i == ' ':\n",
    "            ans.append(temp_ans)\n",
    "            temp_ans = ''\n",
    "        else:\n",
    "            temp_ans += i\n",
    "    ans.append(temp_ans)\n",
    "    return ans"
   ]
  },
  {
   "cell_type": "code",
   "execution_count": 60,
   "id": "e7c03f56",
   "metadata": {},
   "outputs": [
    {
     "name": "stdout",
     "output_type": "stream",
     "text": [
      "['Hello', 'my', 'name', 'is', 'abhijeet']\n"
     ]
    }
   ],
   "source": [
    "print(to_split(string))"
   ]
  },
  {
   "cell_type": "code",
   "execution_count": 61,
   "id": "dfe2e7d1",
   "metadata": {},
   "outputs": [],
   "source": [
    "string = 'Hello my name is abhijeet'"
   ]
  },
  {
   "cell_type": "code",
   "execution_count": 62,
   "id": "dcfefb21",
   "metadata": {},
   "outputs": [
    {
     "name": "stdout",
     "output_type": "stream",
     "text": [
      "['Hello', 'my', 'name', 'is', 'abhijeet']\n"
     ]
    }
   ],
   "source": [
    "print(to_split(string))"
   ]
  },
  {
   "cell_type": "code",
   "execution_count": 63,
   "id": "f56f4f97",
   "metadata": {},
   "outputs": [],
   "source": [
    "def to_count(string, char):\n",
    "    count = 0\n",
    "    \n",
    "    for i in string:\n",
    "        if i == char:\n",
    "            count += 1\n",
    "    return count"
   ]
  },
  {
   "cell_type": "code",
   "execution_count": 64,
   "id": "56de1d59",
   "metadata": {},
   "outputs": [
    {
     "name": "stdout",
     "output_type": "stream",
     "text": [
      "4\n"
     ]
    }
   ],
   "source": [
    "print(to_count(string, 'e'))"
   ]
  },
  {
   "cell_type": "code",
   "execution_count": 70,
   "id": "c4e93ebf",
   "metadata": {},
   "outputs": [],
   "source": [
    "def to_replace(string, source, target):\n",
    "    ans = ''\n",
    "    for i in string:\n",
    "        if i== source:\n",
    "            ans += target\n",
    "        else:\n",
    "            ans += i\n",
    "    return ans"
   ]
  },
  {
   "cell_type": "code",
   "execution_count": 71,
   "id": "094eafdb",
   "metadata": {},
   "outputs": [
    {
     "data": {
      "text/plain": [
       "'Hallo my nama is abhijaat'"
      ]
     },
     "execution_count": 71,
     "metadata": {},
     "output_type": "execute_result"
    }
   ],
   "source": [
    "to_replace(string, 'e', 'a')"
   ]
  },
  {
   "cell_type": "code",
   "execution_count": 80,
   "id": "b546d52d",
   "metadata": {},
   "outputs": [
    {
     "name": "stdout",
     "output_type": "stream",
     "text": [
      "[3, 1, 3, 3, 12, 'abhijeet', 2.001, 'xyz', [1, 2, '3'], <class 'range'>, 200]\n"
     ]
    }
   ],
   "source": [
    "l.insert(2, 3)\n",
    "print(l)"
   ]
  },
  {
   "cell_type": "code",
   "execution_count": 81,
   "id": "07d6f77c",
   "metadata": {},
   "outputs": [
    {
     "name": "stdout",
     "output_type": "stream",
     "text": [
      "[3, 1, 300, 3, 3, 12, 'abhijeet', 2.001, 'xyz', [1, 2, '3'], <class 'range'>, 200]\n"
     ]
    }
   ],
   "source": [
    "l.insert(2, 300)\n",
    "print(l)"
   ]
  },
  {
   "cell_type": "code",
   "execution_count": 82,
   "id": "16ff827f",
   "metadata": {},
   "outputs": [],
   "source": [
    "var = l.pop()"
   ]
  },
  {
   "cell_type": "code",
   "execution_count": 83,
   "id": "827129b8",
   "metadata": {},
   "outputs": [
    {
     "data": {
      "text/plain": [
       "[3, 1, 300, 3, 3, 12, 'abhijeet', 2.001, 'xyz', [1, 2, '3'], range]"
      ]
     },
     "execution_count": 83,
     "metadata": {},
     "output_type": "execute_result"
    }
   ],
   "source": [
    "l"
   ]
  },
  {
   "cell_type": "code",
   "execution_count": 84,
   "id": "95106d23",
   "metadata": {},
   "outputs": [
    {
     "data": {
      "text/plain": [
       "200"
      ]
     },
     "execution_count": 84,
     "metadata": {},
     "output_type": "execute_result"
    }
   ],
   "source": [
    "var"
   ]
  },
  {
   "cell_type": "code",
   "execution_count": 85,
   "id": "79b44d1f",
   "metadata": {},
   "outputs": [
    {
     "name": "stdout",
     "output_type": "stream",
     "text": [
      "[3, 1, 300, 3, 3, 12, 'abhijeet', 2.001, [1, 2, '3'], <class 'range'>] xyz\n"
     ]
    }
   ],
   "source": [
    "var = l.pop(-3)\n",
    "print(l, var)"
   ]
  },
  {
   "cell_type": "code",
   "execution_count": 124,
   "id": "457190dd",
   "metadata": {},
   "outputs": [],
   "source": [
    "lst = [20, 30, 50, 1, 299, 66, 2]"
   ]
  },
  {
   "cell_type": "code",
   "execution_count": 125,
   "id": "acb61ca6",
   "metadata": {},
   "outputs": [
    {
     "name": "stdout",
     "output_type": "stream",
     "text": [
      "[299, 66, 50, 30, 20, 2, 1]\n"
     ]
    }
   ],
   "source": [
    "print(sorted(lst, reverse=True))"
   ]
  },
  {
   "cell_type": "code",
   "execution_count": 126,
   "id": "77798002",
   "metadata": {},
   "outputs": [
    {
     "data": {
      "text/plain": [
       "[20, 30, 50, 1, 299, 66, 2]"
      ]
     },
     "execution_count": 126,
     "metadata": {},
     "output_type": "execute_result"
    }
   ],
   "source": [
    "lst"
   ]
  },
  {
   "cell_type": "code",
   "execution_count": 103,
   "id": "d53b2381",
   "metadata": {},
   "outputs": [],
   "source": [
    "def linear_search(lst, num = 2):\n",
    "    for i in range(len(lst)):\n",
    "        if lst[i] == num:\n",
    "            return(i)\n",
    "    return 'Num not in list'"
   ]
  },
  {
   "cell_type": "code",
   "execution_count": 104,
   "id": "ddc399b2",
   "metadata": {},
   "outputs": [
    {
     "data": {
      "text/plain": [
       "6"
      ]
     },
     "execution_count": 104,
     "metadata": {},
     "output_type": "execute_result"
    }
   ],
   "source": [
    "linear_search(lst)"
   ]
  },
  {
   "cell_type": "code",
   "execution_count": 127,
   "id": "7109dc20",
   "metadata": {},
   "outputs": [],
   "source": [
    "lst = sorted(lst)"
   ]
  },
  {
   "cell_type": "code",
   "execution_count": 128,
   "id": "669e3f83",
   "metadata": {},
   "outputs": [
    {
     "data": {
      "text/plain": [
       "[1, 2, 20, 30, 50, 66, 299]"
      ]
     },
     "execution_count": 128,
     "metadata": {},
     "output_type": "execute_result"
    }
   ],
   "source": [
    "lst"
   ]
  },
  {
   "cell_type": "code",
   "execution_count": 109,
   "id": "6bc62a9c",
   "metadata": {},
   "outputs": [
    {
     "name": "stdout",
     "output_type": "stream",
     "text": [
      "3 30\n"
     ]
    }
   ],
   "source": [
    "start = 0\n",
    "stop = len(lst) - 1\n",
    "\n",
    "while (start <= stop):\n",
    "    mid = int((start + stop)/2)\n",
    "    \n",
    "    if (lst[mid] == 30):\n",
    "        print(mid, lst[mid])\n",
    "        break\n",
    "    elif (lst[mid] < 30):\n",
    "        start = mid + 1\n",
    "    elif (lst[mid] > 30):\n",
    "        stop = mid - 1"
   ]
  },
  {
   "cell_type": "code",
   "execution_count": 110,
   "id": "543b4dc1",
   "metadata": {},
   "outputs": [
    {
     "data": {
      "text/plain": [
       "[1, 2, 20, 30, 50, 66, 299]"
      ]
     },
     "execution_count": 110,
     "metadata": {},
     "output_type": "execute_result"
    }
   ],
   "source": [
    "lst"
   ]
  },
  {
   "cell_type": "code",
   "execution_count": 111,
   "id": "dec06d09",
   "metadata": {},
   "outputs": [],
   "source": [
    "for i in range(int(len(lst)/2)):\n",
    "    temp = lst[i]\n",
    "    lst[i] = lst[len(lst) - 1 - i]\n",
    "    lst[len(lst) - 1 - i] = temp"
   ]
  },
  {
   "cell_type": "code",
   "execution_count": 130,
   "id": "d3e2df68",
   "metadata": {},
   "outputs": [
    {
     "data": {
      "text/plain": [
       "[1, 2, 20, 30, 50, 66, 299]"
      ]
     },
     "execution_count": 130,
     "metadata": {},
     "output_type": "execute_result"
    }
   ],
   "source": [
    "lst"
   ]
  },
  {
   "cell_type": "code",
   "execution_count": 131,
   "id": "23cd32e1",
   "metadata": {},
   "outputs": [],
   "source": [
    "lst.reverse()"
   ]
  },
  {
   "cell_type": "code",
   "execution_count": 132,
   "id": "e10cde25",
   "metadata": {},
   "outputs": [
    {
     "data": {
      "text/plain": [
       "[299, 66, 50, 30, 20, 2, 1]"
      ]
     },
     "execution_count": 132,
     "metadata": {},
     "output_type": "execute_result"
    }
   ],
   "source": [
    "lst"
   ]
  },
  {
   "cell_type": "code",
   "execution_count": null,
   "id": "dc719edb",
   "metadata": {},
   "outputs": [],
   "source": []
  }
 ],
 "metadata": {
  "kernelspec": {
   "display_name": "Python 3 (ipykernel)",
   "language": "python",
   "name": "python3"
  },
  "language_info": {
   "codemirror_mode": {
    "name": "ipython",
    "version": 3
   },
   "file_extension": ".py",
   "mimetype": "text/x-python",
   "name": "python",
   "nbconvert_exporter": "python",
   "pygments_lexer": "ipython3",
   "version": "3.8.10"
  }
 },
 "nbformat": 4,
 "nbformat_minor": 5
}
