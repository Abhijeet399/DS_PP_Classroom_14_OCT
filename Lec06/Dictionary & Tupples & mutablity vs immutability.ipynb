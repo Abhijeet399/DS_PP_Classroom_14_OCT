{
 "cells": [
  {
   "cell_type": "code",
   "execution_count": 3,
   "id": "d54cfd29",
   "metadata": {},
   "outputs": [
    {
     "name": "stdout",
     "output_type": "stream",
     "text": [
      "20\n"
     ]
    }
   ],
   "source": [
    "num = int(input())"
   ]
  },
  {
   "cell_type": "code",
   "execution_count": 4,
   "id": "d69e24ff",
   "metadata": {},
   "outputs": [
    {
     "name": "stdout",
     "output_type": "stream",
     "text": [
      "Even\n"
     ]
    }
   ],
   "source": [
    "if num%2 == 0:\n",
    "    print('Even')\n",
    "else:\n",
    "    print('Odd')"
   ]
  },
  {
   "cell_type": "code",
   "execution_count": 5,
   "id": "3d84bcf5",
   "metadata": {},
   "outputs": [
    {
     "name": "stdout",
     "output_type": "stream",
     "text": [
      "10\n",
      "50\n",
      "25\n",
      "25\n"
     ]
    }
   ],
   "source": [
    "while (True):\n",
    "    num = int(input())\n",
    "    if (20 < num < 40):\n",
    "        print(num)\n",
    "        break"
   ]
  },
  {
   "cell_type": "code",
   "execution_count": 8,
   "id": "71679731",
   "metadata": {},
   "outputs": [],
   "source": [
    "a = [1, 2, '3']\n",
    "a[0]=22"
   ]
  },
  {
   "cell_type": "code",
   "execution_count": 9,
   "id": "c8ef5c89",
   "metadata": {},
   "outputs": [
    {
     "data": {
      "text/plain": [
       "[22, 2, '3']"
      ]
     },
     "execution_count": 9,
     "metadata": {},
     "output_type": "execute_result"
    }
   ],
   "source": [
    "a"
   ]
  },
  {
   "cell_type": "code",
   "execution_count": 6,
   "id": "fc8964f4",
   "metadata": {},
   "outputs": [],
   "source": [
    "# Tupples"
   ]
  },
  {
   "cell_type": "code",
   "execution_count": 10,
   "id": "4078634c",
   "metadata": {},
   "outputs": [],
   "source": [
    "tup = (1, 2.3, 3)"
   ]
  },
  {
   "cell_type": "code",
   "execution_count": 15,
   "id": "e631e21a",
   "metadata": {},
   "outputs": [
    {
     "name": "stdout",
     "output_type": "stream",
     "text": [
      "1\n",
      "2.3\n",
      "3\n"
     ]
    }
   ],
   "source": [
    "for i in tup:\n",
    "    print(i)"
   ]
  },
  {
   "cell_type": "code",
   "execution_count": 23,
   "id": "2f039cba",
   "metadata": {},
   "outputs": [],
   "source": [
    "a = 10\n",
    "b = a"
   ]
  },
  {
   "cell_type": "code",
   "execution_count": 24,
   "id": "41819378",
   "metadata": {},
   "outputs": [
    {
     "name": "stdout",
     "output_type": "stream",
     "text": [
      "140724735711280 140724735711280\n"
     ]
    }
   ],
   "source": [
    "print(id(a), id(b))"
   ]
  },
  {
   "cell_type": "code",
   "execution_count": 25,
   "id": "8507f284",
   "metadata": {},
   "outputs": [
    {
     "name": "stdout",
     "output_type": "stream",
     "text": [
      "140724735711600 140724735711280 20 10\n"
     ]
    }
   ],
   "source": [
    "a = 20\n",
    "print(id(a), id(b), a, b)"
   ]
  },
  {
   "cell_type": "code",
   "execution_count": 26,
   "id": "28c2400c",
   "metadata": {},
   "outputs": [],
   "source": [
    "lst = [1, 2, 3]\n",
    "new_list = lst"
   ]
  },
  {
   "cell_type": "code",
   "execution_count": 27,
   "id": "9eb62469",
   "metadata": {},
   "outputs": [
    {
     "name": "stdout",
     "output_type": "stream",
     "text": [
      "2563180335616 2563180335616\n"
     ]
    }
   ],
   "source": [
    "print(id(lst), id(new_list))"
   ]
  },
  {
   "cell_type": "code",
   "execution_count": 28,
   "id": "0d215d50",
   "metadata": {},
   "outputs": [],
   "source": [
    "lst.append(4)"
   ]
  },
  {
   "cell_type": "code",
   "execution_count": 30,
   "id": "d186a5f8",
   "metadata": {},
   "outputs": [
    {
     "name": "stdout",
     "output_type": "stream",
     "text": [
      "2563180335616 2563180335616 [1, 2, 3, 4] [1, 2, 3, 4]\n"
     ]
    }
   ],
   "source": [
    "print(id(lst), id(new_list), lst, new_list)"
   ]
  },
  {
   "cell_type": "code",
   "execution_count": 31,
   "id": "04123554",
   "metadata": {},
   "outputs": [],
   "source": [
    "a = 'hello'\n",
    "b = a"
   ]
  },
  {
   "cell_type": "code",
   "execution_count": 32,
   "id": "db54f88f",
   "metadata": {},
   "outputs": [
    {
     "name": "stdout",
     "output_type": "stream",
     "text": [
      "2563173503600 2563173503600\n"
     ]
    }
   ],
   "source": [
    "print(id(b), id(a))"
   ]
  },
  {
   "cell_type": "code",
   "execution_count": 33,
   "id": "6006fd3d",
   "metadata": {},
   "outputs": [
    {
     "name": "stdout",
     "output_type": "stream",
     "text": [
      "2563115271408 2563173503600\n"
     ]
    }
   ],
   "source": [
    "b = '2'\n",
    "print(id(b), id(a))"
   ]
  },
  {
   "cell_type": "code",
   "execution_count": 34,
   "id": "0ecde7c0",
   "metadata": {},
   "outputs": [],
   "source": [
    "string = ''"
   ]
  },
  {
   "cell_type": "code",
   "execution_count": 36,
   "id": "8a273d9a",
   "metadata": {},
   "outputs": [],
   "source": [
    "num = 50"
   ]
  },
  {
   "cell_type": "code",
   "execution_count": 49,
   "id": "3039cabd",
   "metadata": {},
   "outputs": [],
   "source": [
    "def temp():\n",
    "    hello = 'hi'\n",
    "    print(hello)"
   ]
  },
  {
   "cell_type": "code",
   "execution_count": 50,
   "id": "3ebaf5c6",
   "metadata": {},
   "outputs": [
    {
     "name": "stdout",
     "output_type": "stream",
     "text": [
      "hi\n"
     ]
    }
   ],
   "source": [
    "hello = 'Hello'\n",
    "temp()"
   ]
  },
  {
   "cell_type": "code",
   "execution_count": 41,
   "id": "af82e1a3",
   "metadata": {},
   "outputs": [
    {
     "name": "stdout",
     "output_type": "stream",
     "text": [
      "50\n"
     ]
    }
   ],
   "source": [
    "print(num)"
   ]
  },
  {
   "cell_type": "code",
   "execution_count": 51,
   "id": "475f83bd",
   "metadata": {},
   "outputs": [
    {
     "data": {
      "text/plain": [
       "'Hello'"
      ]
     },
     "execution_count": 51,
     "metadata": {},
     "output_type": "execute_result"
    }
   ],
   "source": [
    "hello"
   ]
  },
  {
   "cell_type": "code",
   "execution_count": 64,
   "id": "60566314",
   "metadata": {},
   "outputs": [],
   "source": [
    "a = -6\n",
    "b = -6"
   ]
  },
  {
   "cell_type": "code",
   "execution_count": 65,
   "id": "7c64246f",
   "metadata": {},
   "outputs": [
    {
     "name": "stdout",
     "output_type": "stream",
     "text": [
      "2563187747248 2563187747824\n"
     ]
    }
   ],
   "source": [
    "print(id(b), id(a))"
   ]
  },
  {
   "cell_type": "code",
   "execution_count": 71,
   "id": "7af92d0c",
   "metadata": {},
   "outputs": [
    {
     "name": "stdout",
     "output_type": "stream",
     "text": [
      "2563180335616 140724735710992 140724735711024 140724735711056\n"
     ]
    }
   ],
   "source": [
    "print(id(lst), id(lst[0]),id(lst[1]),id(lst[2]))"
   ]
  },
  {
   "cell_type": "code",
   "execution_count": 72,
   "id": "2c9e23ec",
   "metadata": {},
   "outputs": [
    {
     "data": {
      "text/plain": [
       "(1, 2.3, 3)"
      ]
     },
     "execution_count": 72,
     "metadata": {},
     "output_type": "execute_result"
    }
   ],
   "source": [
    "tup"
   ]
  },
  {
   "cell_type": "code",
   "execution_count": 89,
   "id": "001b3760",
   "metadata": {},
   "outputs": [],
   "source": [
    "def calc(a, b):\n",
    "    add = a + b\n",
    "    sub = a - b\n",
    "    mult = a*b\n",
    "    div = a/b\n",
    "    return add, sub, mult, div"
   ]
  },
  {
   "cell_type": "code",
   "execution_count": 90,
   "id": "ae1eb877",
   "metadata": {},
   "outputs": [],
   "source": [
    "calculator = calc(10, 20)"
   ]
  },
  {
   "cell_type": "code",
   "execution_count": 92,
   "id": "61b27cdf",
   "metadata": {},
   "outputs": [
    {
     "name": "stdout",
     "output_type": "stream",
     "text": [
      "(30, -10, 200, 0.5)\n"
     ]
    }
   ],
   "source": [
    "print(calculator)"
   ]
  },
  {
   "cell_type": "code",
   "execution_count": 96,
   "id": "03170699",
   "metadata": {},
   "outputs": [
    {
     "name": "stdout",
     "output_type": "stream",
     "text": [
      "1\n",
      "2.3\n",
      "3\n"
     ]
    }
   ],
   "source": [
    "for i in tup:\n",
    "    print(i)"
   ]
  },
  {
   "cell_type": "code",
   "execution_count": 103,
   "id": "bfecbd51",
   "metadata": {},
   "outputs": [],
   "source": [
    "tup = list(tup)"
   ]
  },
  {
   "cell_type": "code",
   "execution_count": 104,
   "id": "01928f3d",
   "metadata": {},
   "outputs": [
    {
     "data": {
      "text/plain": [
       "list"
      ]
     },
     "execution_count": 104,
     "metadata": {},
     "output_type": "execute_result"
    }
   ],
   "source": [
    "type(tup)"
   ]
  },
  {
   "cell_type": "code",
   "execution_count": 106,
   "id": "5e7f97af",
   "metadata": {},
   "outputs": [],
   "source": [
    "tup[0] = 100"
   ]
  },
  {
   "cell_type": "code",
   "execution_count": 108,
   "id": "e41e83a1",
   "metadata": {},
   "outputs": [],
   "source": [
    "tup = tuple(tup)"
   ]
  },
  {
   "cell_type": "code",
   "execution_count": 109,
   "id": "582f45e6",
   "metadata": {},
   "outputs": [
    {
     "data": {
      "text/plain": [
       "(tuple, (100, 2.3, 3))"
      ]
     },
     "execution_count": 109,
     "metadata": {},
     "output_type": "execute_result"
    }
   ],
   "source": [
    "type(tup), tup"
   ]
  },
  {
   "cell_type": "code",
   "execution_count": 114,
   "id": "42e9d786",
   "metadata": {},
   "outputs": [],
   "source": [
    "tup = (1, 2, 3, [1, 2, 3])"
   ]
  },
  {
   "cell_type": "code",
   "execution_count": 116,
   "id": "6f80f0d4",
   "metadata": {},
   "outputs": [],
   "source": [
    "tup[-1].append(4)"
   ]
  },
  {
   "cell_type": "code",
   "execution_count": 117,
   "id": "54cf1b3d",
   "metadata": {},
   "outputs": [
    {
     "data": {
      "text/plain": [
       "(1, 2, 3, [1, 2, 3, 4])"
      ]
     },
     "execution_count": 117,
     "metadata": {},
     "output_type": "execute_result"
    }
   ],
   "source": [
    "tup"
   ]
  },
  {
   "cell_type": "code",
   "execution_count": 119,
   "id": "e81a4743",
   "metadata": {},
   "outputs": [],
   "source": [
    "lst.append((1, 2, 3))"
   ]
  },
  {
   "cell_type": "code",
   "execution_count": 122,
   "id": "8c674b71",
   "metadata": {},
   "outputs": [
    {
     "ename": "AttributeError",
     "evalue": "'tuple' object has no attribute 'append'",
     "output_type": "error",
     "traceback": [
      "\u001b[1;31m---------------------------------------------------------------------------\u001b[0m",
      "\u001b[1;31mAttributeError\u001b[0m                            Traceback (most recent call last)",
      "Cell \u001b[1;32mIn[122], line 1\u001b[0m\n\u001b[1;32m----> 1\u001b[0m \u001b[43mlst\u001b[49m\u001b[43m[\u001b[49m\u001b[38;5;241;43m-\u001b[39;49m\u001b[38;5;241;43m1\u001b[39;49m\u001b[43m]\u001b[49m\u001b[38;5;241;43m.\u001b[39;49m\u001b[43mappend\u001b[49m(\u001b[38;5;241m4\u001b[39m)\n",
      "\u001b[1;31mAttributeError\u001b[0m: 'tuple' object has no attribute 'append'"
     ]
    }
   ],
   "source": [
    "lst[-1].append(4)"
   ]
  },
  {
   "cell_type": "code",
   "execution_count": 124,
   "id": "a653399e",
   "metadata": {},
   "outputs": [],
   "source": [
    "students = [['Abhijeet', 95], ['Shubham', 98]]"
   ]
  },
  {
   "cell_type": "code",
   "execution_count": 125,
   "id": "d0755521",
   "metadata": {},
   "outputs": [],
   "source": [
    "# Dictionary"
   ]
  },
  {
   "cell_type": "code",
   "execution_count": 158,
   "id": "24a4ef0d",
   "metadata": {},
   "outputs": [],
   "source": [
    "dictionary = {\n",
    "    'a': 'The first alphabet',\n",
    "    'b': 'The second alphabet',\n",
    "    'c': 'Third Alphabet',\n",
    "    1: 'One',\n",
    "    '2': 2,\n",
    "    2: [1, 2],\n",
    "    3: {\n",
    "        1: 'One'\n",
    "    },\n",
    "#     3: 'j'\n",
    "}"
   ]
  },
  {
   "cell_type": "code",
   "execution_count": 159,
   "id": "59bc3ee1",
   "metadata": {},
   "outputs": [
    {
     "data": {
      "text/plain": [
       "{'a': 'The first alphabet',\n",
       " 'b': 'The second alphabet',\n",
       " 'c': 'Third Alphabet',\n",
       " 1: 'One',\n",
       " '2': 2,\n",
       " 2: [1, 2],\n",
       " 3: {1: 'One'}}"
      ]
     },
     "execution_count": 159,
     "metadata": {},
     "output_type": "execute_result"
    }
   ],
   "source": [
    "dictionary"
   ]
  },
  {
   "cell_type": "code",
   "execution_count": 160,
   "id": "8d7457d7",
   "metadata": {
    "scrolled": true
   },
   "outputs": [],
   "source": [
    "d = dictionary[3]"
   ]
  },
  {
   "cell_type": "code",
   "execution_count": 161,
   "id": "f1a78748",
   "metadata": {},
   "outputs": [
    {
     "data": {
      "text/plain": [
       "'One'"
      ]
     },
     "execution_count": 161,
     "metadata": {},
     "output_type": "execute_result"
    }
   ],
   "source": [
    "d[1]"
   ]
  },
  {
   "cell_type": "code",
   "execution_count": 162,
   "id": "fbb3439c",
   "metadata": {},
   "outputs": [
    {
     "data": {
      "text/plain": [
       "'One'"
      ]
     },
     "execution_count": 162,
     "metadata": {},
     "output_type": "execute_result"
    }
   ],
   "source": [
    "dictionary[3][1]"
   ]
  },
  {
   "cell_type": "code",
   "execution_count": 163,
   "id": "814566b2",
   "metadata": {},
   "outputs": [
    {
     "name": "stdout",
     "output_type": "stream",
     "text": [
      "a The first alphabet\n",
      "b The second alphabet\n",
      "c Third Alphabet\n",
      "1 One\n",
      "2 2\n",
      "2 [1, 2]\n",
      "3 {1: 'One'}\n"
     ]
    }
   ],
   "source": [
    "for i in dictionary:\n",
    "    print(i, dictionary[i])"
   ]
  },
  {
   "cell_type": "code",
   "execution_count": 166,
   "id": "871e27eb",
   "metadata": {},
   "outputs": [
    {
     "data": {
      "text/plain": [
       "int"
      ]
     },
     "execution_count": 166,
     "metadata": {},
     "output_type": "execute_result"
    }
   ],
   "source": [
    "type(dictionary['2'])"
   ]
  },
  {
   "cell_type": "code",
   "execution_count": 173,
   "id": "a2aa6051",
   "metadata": {},
   "outputs": [
    {
     "name": "stdout",
     "output_type": "stream",
     "text": [
      "a\n",
      "b\n",
      "c\n",
      "1\n",
      "2\n",
      "2\n",
      "3\n"
     ]
    }
   ],
   "source": [
    "for i in dictionary.keys():\n",
    "    print(i)"
   ]
  },
  {
   "cell_type": "code",
   "execution_count": 172,
   "id": "23c5d384",
   "metadata": {},
   "outputs": [
    {
     "name": "stdout",
     "output_type": "stream",
     "text": [
      "a: The first alphabet\n",
      "b: The second alphabet\n",
      "c: Third Alphabet\n",
      "1: One\n",
      "2: 2\n",
      "2: [1, 2]\n",
      "3: {1: 'One'}\n"
     ]
    }
   ],
   "source": [
    "for i in dictionary.items():\n",
    "    print(f'{i[0]}: {i[1]}')"
   ]
  },
  {
   "cell_type": "code",
   "execution_count": 175,
   "id": "78c90600",
   "metadata": {
    "scrolled": true
   },
   "outputs": [
    {
     "name": "stdout",
     "output_type": "stream",
     "text": [
      "('a', 'The first alphabet')\n",
      "('b', 'The second alphabet')\n",
      "('c', 'Third Alphabet')\n",
      "(1, 'One')\n",
      "('2', 2)\n",
      "(2, [1, 2])\n",
      "(3, {1: 'One'})\n"
     ]
    }
   ],
   "source": [
    "for i in dictionary.items():\n",
    "    print(i)"
   ]
  },
  {
   "cell_type": "code",
   "execution_count": 176,
   "id": "a62fb14e",
   "metadata": {},
   "outputs": [
    {
     "data": {
      "text/plain": [
       "dict_values(['The first alphabet', 'The second alphabet', 'Third Alphabet', 'One', 2, [1, 2], {1: 'One'}])"
      ]
     },
     "execution_count": 176,
     "metadata": {},
     "output_type": "execute_result"
    }
   ],
   "source": [
    "dictionary.values()"
   ]
  },
  {
   "cell_type": "code",
   "execution_count": 177,
   "id": "75bdb1f7",
   "metadata": {},
   "outputs": [
    {
     "data": {
      "text/plain": [
       "dict_items([('a', 'The first alphabet'), ('b', 'The second alphabet'), ('c', 'Third Alphabet'), (1, 'One'), ('2', 2), (2, [1, 2]), (3, {1: 'One'})])"
      ]
     },
     "execution_count": 177,
     "metadata": {},
     "output_type": "execute_result"
    }
   ],
   "source": [
    "dictionary.items()"
   ]
  },
  {
   "cell_type": "code",
   "execution_count": 179,
   "id": "36dd09c3",
   "metadata": {},
   "outputs": [
    {
     "data": {
      "text/plain": [
       "'The first alphabet'"
      ]
     },
     "execution_count": 179,
     "metadata": {},
     "output_type": "execute_result"
    }
   ],
   "source": [
    "dictionary.get('a')"
   ]
  },
  {
   "cell_type": "code",
   "execution_count": 181,
   "id": "2588a9bd",
   "metadata": {},
   "outputs": [],
   "source": [
    "dictionary['new'] = [1, 2, 3, 4, 5]"
   ]
  },
  {
   "cell_type": "code",
   "execution_count": 184,
   "id": "d1373c2d",
   "metadata": {},
   "outputs": [
    {
     "data": {
      "text/plain": [
       "{'a': 'The first alphabet',\n",
       " 'b': 'The second alphabet',\n",
       " 'c': 'Third Alphabet',\n",
       " 1: 'One',\n",
       " '2': 2,\n",
       " 2: [1, 2],\n",
       " 3: {1: 'One'},\n",
       " 'new': [1, 2, 3, 4, 5]}"
      ]
     },
     "execution_count": 184,
     "metadata": {},
     "output_type": "execute_result"
    }
   ],
   "source": [
    "dictionary"
   ]
  },
  {
   "cell_type": "code",
   "execution_count": 185,
   "id": "ebe89871",
   "metadata": {},
   "outputs": [
    {
     "data": {
      "text/plain": [
       "[1, 2, 3, 4, 5]"
      ]
     },
     "execution_count": 185,
     "metadata": {},
     "output_type": "execute_result"
    }
   ],
   "source": [
    "dictionary.pop('new')"
   ]
  },
  {
   "cell_type": "code",
   "execution_count": 186,
   "id": "326dbf1b",
   "metadata": {},
   "outputs": [
    {
     "data": {
      "text/plain": [
       "{'a': 'The first alphabet',\n",
       " 'b': 'The second alphabet',\n",
       " 'c': 'Third Alphabet',\n",
       " 1: 'One',\n",
       " '2': 2,\n",
       " 2: [1, 2],\n",
       " 3: {1: 'One'}}"
      ]
     },
     "execution_count": 186,
     "metadata": {},
     "output_type": "execute_result"
    }
   ],
   "source": [
    "dictionary"
   ]
  },
  {
   "cell_type": "code",
   "execution_count": 187,
   "id": "bcd57ea1",
   "metadata": {},
   "outputs": [
    {
     "data": {
      "text/plain": [
       "-6"
      ]
     },
     "execution_count": 187,
     "metadata": {},
     "output_type": "execute_result"
    }
   ],
   "source": [
    "a"
   ]
  },
  {
   "cell_type": "code",
   "execution_count": 188,
   "id": "da71edb6",
   "metadata": {},
   "outputs": [],
   "source": [
    "del a"
   ]
  },
  {
   "cell_type": "code",
   "execution_count": 189,
   "id": "84feb203",
   "metadata": {},
   "outputs": [
    {
     "ename": "NameError",
     "evalue": "name 'a' is not defined",
     "output_type": "error",
     "traceback": [
      "\u001b[1;31m---------------------------------------------------------------------------\u001b[0m",
      "\u001b[1;31mNameError\u001b[0m                                 Traceback (most recent call last)",
      "Cell \u001b[1;32mIn[189], line 1\u001b[0m\n\u001b[1;32m----> 1\u001b[0m \u001b[43ma\u001b[49m\n",
      "\u001b[1;31mNameError\u001b[0m: name 'a' is not defined"
     ]
    }
   ],
   "source": [
    "a"
   ]
  },
  {
   "cell_type": "code",
   "execution_count": null,
   "id": "67c7ebf7",
   "metadata": {},
   "outputs": [],
   "source": []
  }
 ],
 "metadata": {
  "kernelspec": {
   "display_name": "Python 3 (ipykernel)",
   "language": "python",
   "name": "python3"
  },
  "language_info": {
   "codemirror_mode": {
    "name": "ipython",
    "version": 3
   },
   "file_extension": ".py",
   "mimetype": "text/x-python",
   "name": "python",
   "nbconvert_exporter": "python",
   "pygments_lexer": "ipython3",
   "version": "3.8.10"
  }
 },
 "nbformat": 4,
 "nbformat_minor": 5
}
