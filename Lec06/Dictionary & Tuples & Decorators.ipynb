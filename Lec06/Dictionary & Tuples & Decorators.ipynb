{
 "cells": [
  {
   "cell_type": "code",
   "execution_count": 1,
   "id": "fab799cb",
   "metadata": {},
   "outputs": [],
   "source": [
    "# Tupples"
   ]
  },
  {
   "cell_type": "code",
   "execution_count": 2,
   "id": "1131bc8e",
   "metadata": {},
   "outputs": [],
   "source": [
    "tup = (1, 2, 3)"
   ]
  },
  {
   "cell_type": "code",
   "execution_count": 3,
   "id": "f10826b7",
   "metadata": {},
   "outputs": [
    {
     "data": {
      "text/plain": [
       "1"
      ]
     },
     "execution_count": 3,
     "metadata": {},
     "output_type": "execute_result"
    }
   ],
   "source": [
    "tup[0]"
   ]
  },
  {
   "cell_type": "code",
   "execution_count": 5,
   "id": "bf4a8a08",
   "metadata": {},
   "outputs": [
    {
     "name": "stdout",
     "output_type": "stream",
     "text": [
      "1\n",
      "2\n",
      "3\n"
     ]
    }
   ],
   "source": [
    "for i in tup:\n",
    "    print(i)"
   ]
  },
  {
   "cell_type": "code",
   "execution_count": 6,
   "id": "2fbce828",
   "metadata": {},
   "outputs": [],
   "source": [
    "string = 'abc'"
   ]
  },
  {
   "cell_type": "code",
   "execution_count": 10,
   "id": "1b1fc4d1",
   "metadata": {},
   "outputs": [
    {
     "name": "stdout",
     "output_type": "stream",
     "text": [
      "2299244368432\n",
      "2299246271088\n"
     ]
    }
   ],
   "source": [
    "print(id(string))\n",
    "string = 'def'\n",
    "print(id(string))"
   ]
  },
  {
   "cell_type": "code",
   "execution_count": 11,
   "id": "5e53c037",
   "metadata": {},
   "outputs": [
    {
     "name": "stdout",
     "output_type": "stream",
     "text": [
      "140709758375984\n",
      "140709758378864\n"
     ]
    }
   ],
   "source": [
    "var = 10\n",
    "print(id(var))\n",
    "var = 100\n",
    "print(id(var))"
   ]
  },
  {
   "cell_type": "code",
   "execution_count": 12,
   "id": "b1caecdc",
   "metadata": {},
   "outputs": [
    {
     "name": "stdout",
     "output_type": "stream",
     "text": [
      "2299323402240\n",
      "2299323402240\n"
     ]
    }
   ],
   "source": [
    "l = ['abc']\n",
    "print(id(l))\n",
    "l.append('def')\n",
    "print(id(l))"
   ]
  },
  {
   "cell_type": "code",
   "execution_count": 14,
   "id": "e07b2eed",
   "metadata": {},
   "outputs": [
    {
     "data": {
      "text/plain": [
       "tuple"
      ]
     },
     "execution_count": 14,
     "metadata": {},
     "output_type": "execute_result"
    }
   ],
   "source": [
    "type(tup)"
   ]
  },
  {
   "cell_type": "code",
   "execution_count": 15,
   "id": "ee872dcd",
   "metadata": {},
   "outputs": [
    {
     "ename": "TypeError",
     "evalue": "'tuple' object does not support item assignment",
     "output_type": "error",
     "traceback": [
      "\u001b[1;31m---------------------------------------------------------------------------\u001b[0m",
      "\u001b[1;31mTypeError\u001b[0m                                 Traceback (most recent call last)",
      "Cell \u001b[1;32mIn[15], line 1\u001b[0m\n\u001b[1;32m----> 1\u001b[0m \u001b[43mtup\u001b[49m\u001b[43m[\u001b[49m\u001b[38;5;241;43m1\u001b[39;49m\u001b[43m]\u001b[49m \u001b[38;5;241m=\u001b[39m \u001b[38;5;241m100\u001b[39m\n",
      "\u001b[1;31mTypeError\u001b[0m: 'tuple' object does not support item assignment"
     ]
    }
   ],
   "source": [
    "tup[1] = 100"
   ]
  },
  {
   "cell_type": "code",
   "execution_count": 16,
   "id": "465e9dfc",
   "metadata": {},
   "outputs": [],
   "source": [
    "def  calculator(a, b):\n",
    "    return a + b, a - b, a*b, a/b"
   ]
  },
  {
   "cell_type": "code",
   "execution_count": 17,
   "id": "cfddf91a",
   "metadata": {},
   "outputs": [],
   "source": [
    "a, b, c, d = calculator(10, 20)"
   ]
  },
  {
   "cell_type": "code",
   "execution_count": 18,
   "id": "c574753f",
   "metadata": {},
   "outputs": [
    {
     "name": "stdout",
     "output_type": "stream",
     "text": [
      "30 -10 200 0.5\n"
     ]
    }
   ],
   "source": [
    "print(a, b, c, d)"
   ]
  },
  {
   "cell_type": "code",
   "execution_count": 19,
   "id": "82ce5f34",
   "metadata": {},
   "outputs": [
    {
     "name": "stdout",
     "output_type": "stream",
     "text": [
      "(30, -10, 200, 0.5)\n"
     ]
    }
   ],
   "source": [
    "a = calculator(10, 20)\n",
    "print(a)"
   ]
  },
  {
   "cell_type": "code",
   "execution_count": 20,
   "id": "1e29f272",
   "metadata": {},
   "outputs": [],
   "source": [
    "lst = list(tup)"
   ]
  },
  {
   "cell_type": "code",
   "execution_count": 21,
   "id": "07839d90",
   "metadata": {},
   "outputs": [],
   "source": [
    "lst.append(4)"
   ]
  },
  {
   "cell_type": "code",
   "execution_count": 22,
   "id": "997e8787",
   "metadata": {},
   "outputs": [],
   "source": [
    "tup = tuple(lst)"
   ]
  },
  {
   "cell_type": "code",
   "execution_count": 23,
   "id": "c1b8a828",
   "metadata": {},
   "outputs": [
    {
     "data": {
      "text/plain": [
       "(1, 2, 3, 4)"
      ]
     },
     "execution_count": 23,
     "metadata": {},
     "output_type": "execute_result"
    }
   ],
   "source": [
    "tup"
   ]
  },
  {
   "cell_type": "code",
   "execution_count": 25,
   "id": "b39466d9",
   "metadata": {},
   "outputs": [],
   "source": [
    "# Dictionary"
   ]
  },
  {
   "cell_type": "code",
   "execution_count": 26,
   "id": "be1fb9af",
   "metadata": {},
   "outputs": [],
   "source": [
    "d = {\n",
    "    'a': 1,\n",
    "    'b': 2\n",
    "}"
   ]
  },
  {
   "cell_type": "code",
   "execution_count": 28,
   "id": "1b9f5521",
   "metadata": {},
   "outputs": [
    {
     "data": {
      "text/plain": [
       "1"
      ]
     },
     "execution_count": 28,
     "metadata": {},
     "output_type": "execute_result"
    }
   ],
   "source": [
    "d['a']"
   ]
  },
  {
   "cell_type": "code",
   "execution_count": 29,
   "id": "dd85d955",
   "metadata": {},
   "outputs": [],
   "source": [
    "d['c'] = 3"
   ]
  },
  {
   "cell_type": "code",
   "execution_count": 30,
   "id": "e173482d",
   "metadata": {},
   "outputs": [
    {
     "data": {
      "text/plain": [
       "{'a': 1, 'b': 2, 'c': 3}"
      ]
     },
     "execution_count": 30,
     "metadata": {},
     "output_type": "execute_result"
    }
   ],
   "source": [
    "d"
   ]
  },
  {
   "cell_type": "code",
   "execution_count": 31,
   "id": "f82e8709",
   "metadata": {},
   "outputs": [],
   "source": [
    "d[1] = '2'"
   ]
  },
  {
   "cell_type": "code",
   "execution_count": 32,
   "id": "93312c72",
   "metadata": {},
   "outputs": [
    {
     "data": {
      "text/plain": [
       "{'a': 1, 'b': 2, 'c': 3, 1: '2'}"
      ]
     },
     "execution_count": 32,
     "metadata": {},
     "output_type": "execute_result"
    }
   ],
   "source": [
    "d"
   ]
  },
  {
   "cell_type": "code",
   "execution_count": 33,
   "id": "b388bb8e",
   "metadata": {},
   "outputs": [],
   "source": [
    "d[2] = print"
   ]
  },
  {
   "cell_type": "code",
   "execution_count": 37,
   "id": "b0d56bf3",
   "metadata": {},
   "outputs": [],
   "source": [
    "d[(1, 2, 3)] = [1, 2, 3]"
   ]
  },
  {
   "cell_type": "code",
   "execution_count": 35,
   "id": "bbeadd3f",
   "metadata": {},
   "outputs": [
    {
     "data": {
      "text/plain": [
       "'2'"
      ]
     },
     "execution_count": 35,
     "metadata": {},
     "output_type": "execute_result"
    }
   ],
   "source": [
    "d[1]"
   ]
  },
  {
   "cell_type": "code",
   "execution_count": 38,
   "id": "459ec936",
   "metadata": {},
   "outputs": [
    {
     "data": {
      "text/plain": [
       "{'a': 1, 'b': 2, 'c': 3, 1: '2', 2: <function print>, (1, 2, 3): [1, 2, 3]}"
      ]
     },
     "execution_count": 38,
     "metadata": {},
     "output_type": "execute_result"
    }
   ],
   "source": [
    "d"
   ]
  },
  {
   "cell_type": "code",
   "execution_count": 40,
   "id": "46118e98",
   "metadata": {},
   "outputs": [],
   "source": [
    "d[()] = 'Hello'"
   ]
  },
  {
   "cell_type": "code",
   "execution_count": 42,
   "id": "43dfa1ba",
   "metadata": {},
   "outputs": [],
   "source": [
    "d['a'] = 200"
   ]
  },
  {
   "cell_type": "code",
   "execution_count": 43,
   "id": "7dd2c522",
   "metadata": {},
   "outputs": [
    {
     "data": {
      "text/plain": [
       "{'a': 200,\n",
       " 'b': 2,\n",
       " 'c': 3,\n",
       " 1: '2',\n",
       " 2: <function print>,\n",
       " (1, 2, 3): [1, 2, 3],\n",
       " (): 'Hello'}"
      ]
     },
     "execution_count": 43,
     "metadata": {},
     "output_type": "execute_result"
    }
   ],
   "source": [
    "d"
   ]
  },
  {
   "cell_type": "code",
   "execution_count": 45,
   "id": "512e71fe",
   "metadata": {},
   "outputs": [
    {
     "data": {
      "text/plain": [
       "<function print>"
      ]
     },
     "execution_count": 45,
     "metadata": {},
     "output_type": "execute_result"
    }
   ],
   "source": [
    "d.get(2)"
   ]
  },
  {
   "cell_type": "code",
   "execution_count": 46,
   "id": "b647373a",
   "metadata": {},
   "outputs": [
    {
     "name": "stdout",
     "output_type": "stream",
     "text": [
      "a 200\n",
      "b 2\n",
      "c 3\n",
      "1 2\n",
      "2 <built-in function print>\n",
      "(1, 2, 3) [1, 2, 3]\n",
      "() Hello\n"
     ]
    }
   ],
   "source": [
    "for i in d:\n",
    "    print(i, d[i])"
   ]
  },
  {
   "cell_type": "code",
   "execution_count": 47,
   "id": "932bb553",
   "metadata": {},
   "outputs": [
    {
     "data": {
      "text/plain": [
       "dict_keys(['a', 'b', 'c', 1, 2, (1, 2, 3), ()])"
      ]
     },
     "execution_count": 47,
     "metadata": {},
     "output_type": "execute_result"
    }
   ],
   "source": [
    "d.keys()"
   ]
  },
  {
   "cell_type": "code",
   "execution_count": 48,
   "id": "b18f8cb3",
   "metadata": {},
   "outputs": [
    {
     "name": "stdout",
     "output_type": "stream",
     "text": [
      "a\n",
      "b\n",
      "c\n",
      "1\n",
      "2\n",
      "(1, 2, 3)\n",
      "()\n"
     ]
    }
   ],
   "source": [
    "for i in d.keys():\n",
    "    print(i)"
   ]
  },
  {
   "cell_type": "code",
   "execution_count": 49,
   "id": "e92c3bcd",
   "metadata": {},
   "outputs": [
    {
     "name": "stdout",
     "output_type": "stream",
     "text": [
      "200\n",
      "2\n",
      "3\n",
      "2\n",
      "<built-in function print>\n",
      "[1, 2, 3]\n",
      "Hello\n"
     ]
    }
   ],
   "source": [
    "for i in d.values():\n",
    "    print(i)"
   ]
  },
  {
   "cell_type": "code",
   "execution_count": 50,
   "id": "53c3faea",
   "metadata": {},
   "outputs": [],
   "source": [
    "d['d'] = {1: 'hello', 2: 'hi'}"
   ]
  },
  {
   "cell_type": "code",
   "execution_count": 51,
   "id": "29678dd0",
   "metadata": {},
   "outputs": [
    {
     "data": {
      "text/plain": [
       "{'a': 200,\n",
       " 'b': 2,\n",
       " 'c': 3,\n",
       " 1: '2',\n",
       " 2: <function print>,\n",
       " (1, 2, 3): [1, 2, 3],\n",
       " (): 'Hello',\n",
       " 'd': {1: 'hello', 2: 'hi'}}"
      ]
     },
     "execution_count": 51,
     "metadata": {},
     "output_type": "execute_result"
    }
   ],
   "source": [
    "d"
   ]
  },
  {
   "cell_type": "code",
   "execution_count": 52,
   "id": "4152a7d8",
   "metadata": {},
   "outputs": [
    {
     "data": {
      "text/plain": [
       "dict_items([('a', 200), ('b', 2), ('c', 3), (1, '2'), (2, <built-in function print>), ((1, 2, 3), [1, 2, 3]), ((), 'Hello'), ('d', {1: 'hello', 2: 'hi'})])"
      ]
     },
     "execution_count": 52,
     "metadata": {},
     "output_type": "execute_result"
    }
   ],
   "source": [
    "d.items()"
   ]
  },
  {
   "cell_type": "code",
   "execution_count": 74,
   "id": "ad0a0ab4",
   "metadata": {},
   "outputs": [
    {
     "name": "stdout",
     "output_type": "stream",
     "text": [
      "{1: 'hello', 2: 'hi'}\n"
     ]
    }
   ],
   "source": [
    "values = []\n",
    "\n",
    "for i in d.items():\n",
    "    if type(i[1]) == dict:\n",
    "        print(i[1])\n",
    "        values.append(i[1].values())\n",
    "    else:\n",
    "        values.append(i[1])"
   ]
  },
  {
   "cell_type": "code",
   "execution_count": 75,
   "id": "01d3bbae",
   "metadata": {},
   "outputs": [
    {
     "data": {
      "text/plain": [
       "[200,\n",
       " 2,\n",
       " 3,\n",
       " '2',\n",
       " <function print>,\n",
       " [1, 2, 3],\n",
       " 'Hello',\n",
       " dict_values(['hello', 'hi'])]"
      ]
     },
     "execution_count": 75,
     "metadata": {},
     "output_type": "execute_result"
    }
   ],
   "source": [
    "values"
   ]
  },
  {
   "cell_type": "code",
   "execution_count": 76,
   "id": "5c7413ff",
   "metadata": {},
   "outputs": [
    {
     "data": {
      "text/plain": [
       "{'a': 200,\n",
       " 'b': 2,\n",
       " 'c': 3,\n",
       " 1: '2',\n",
       " 2: <function print>,\n",
       " (1, 2, 3): [1, 2, 3],\n",
       " (): 'Hello',\n",
       " 'd': {1: 'hello', 2: 'hi'}}"
      ]
     },
     "execution_count": 76,
     "metadata": {},
     "output_type": "execute_result"
    }
   ],
   "source": [
    "d"
   ]
  },
  {
   "cell_type": "code",
   "execution_count": 77,
   "id": "543e6e8e",
   "metadata": {},
   "outputs": [],
   "source": [
    "# Variable Length Arguments"
   ]
  },
  {
   "cell_type": "code",
   "execution_count": 114,
   "id": "fa633426",
   "metadata": {},
   "outputs": [],
   "source": [
    "def adder(a, *abhijeet, **kwargs):\n",
    "    print(abhijeet)\n",
    "    print(kwargs)\n",
    "    a = str(a)\n",
    "    for i in abhijeet:\n",
    "        a+=str(i)\n",
    "    return a"
   ]
  },
  {
   "cell_type": "code",
   "execution_count": 115,
   "id": "6145de2d",
   "metadata": {},
   "outputs": [
    {
     "name": "stdout",
     "output_type": "stream",
     "text": [
      "(2, 3, 4, 5, 2, 3, 5, 4, 2, 3)\n",
      "{}\n"
     ]
    },
    {
     "data": {
      "text/plain": [
       "'12345235423'"
      ]
     },
     "execution_count": 115,
     "metadata": {},
     "output_type": "execute_result"
    }
   ],
   "source": [
    "adder(1, 2, 3, 4, 5,2,3,5,4,2,3)"
   ]
  },
  {
   "cell_type": "code",
   "execution_count": 116,
   "id": "9aa8d320",
   "metadata": {},
   "outputs": [
    {
     "name": "stdout",
     "output_type": "stream",
     "text": [
      "0 1 2 3 4 5 6 7 8 9\n"
     ]
    }
   ],
   "source": [
    "print(0,1,2,3,4,5,6,7,8,9)"
   ]
  },
  {
   "cell_type": "code",
   "execution_count": 117,
   "id": "919063c2",
   "metadata": {},
   "outputs": [
    {
     "name": "stdout",
     "output_type": "stream",
     "text": [
      "()\n",
      "{}\n"
     ]
    },
    {
     "data": {
      "text/plain": [
       "'1'"
      ]
     },
     "execution_count": 117,
     "metadata": {},
     "output_type": "execute_result"
    }
   ],
   "source": [
    "adder(1)"
   ]
  },
  {
   "cell_type": "code",
   "execution_count": 118,
   "id": "8eca0cb0",
   "metadata": {},
   "outputs": [
    {
     "name": "stdout",
     "output_type": "stream",
     "text": [
      "(2, 3, 4, 6, 5, 6, 7, 89, 9)\n",
      "{'name': 'adder', 'func': 'add'}\n"
     ]
    },
    {
     "data": {
      "text/plain": [
       "'12346567899'"
      ]
     },
     "execution_count": 118,
     "metadata": {},
     "output_type": "execute_result"
    }
   ],
   "source": [
    "adder(1,2,3,4,6,5,6,7,89,9, name = 'adder', func = 'add')"
   ]
  },
  {
   "cell_type": "code",
   "execution_count": 119,
   "id": "bd64bc7a",
   "metadata": {},
   "outputs": [],
   "source": [
    "# Decorators"
   ]
  },
  {
   "cell_type": "code",
   "execution_count": 125,
   "id": "d7ef7028",
   "metadata": {},
   "outputs": [],
   "source": [
    "def temp():\n",
    "    print('hello')"
   ]
  },
  {
   "cell_type": "code",
   "execution_count": 126,
   "id": "efc83142",
   "metadata": {},
   "outputs": [
    {
     "name": "stdout",
     "output_type": "stream",
     "text": [
      "hello\n",
      "None\n"
     ]
    }
   ],
   "source": [
    "print(temp())"
   ]
  },
  {
   "cell_type": "code",
   "execution_count": 129,
   "id": "385d589d",
   "metadata": {},
   "outputs": [],
   "source": [
    "users = {\n",
    "    'Abhijeet': '12345678',\n",
    "    'Chirag':'password'\n",
    "}"
   ]
  },
  {
   "cell_type": "code",
   "execution_count": 130,
   "id": "be12480c",
   "metadata": {},
   "outputs": [],
   "source": [
    "def add(a, b):\n",
    "    return a+b"
   ]
  },
  {
   "cell_type": "code",
   "execution_count": 135,
   "id": "5f943325",
   "metadata": {},
   "outputs": [],
   "source": [
    "def show(username, password):\n",
    "    if username in users and users[username] == password:\n",
    "        print('Authenticated')\n",
    "        print(add(10, 20))\n",
    "    else:\n",
    "        print('Not Authenticated')"
   ]
  },
  {
   "cell_type": "code",
   "execution_count": 136,
   "id": "83619cb6",
   "metadata": {},
   "outputs": [
    {
     "name": "stdout",
     "output_type": "stream",
     "text": [
      "Authenticated\n",
      "30\n"
     ]
    }
   ],
   "source": [
    "show('Abhijeet', '12345678')"
   ]
  },
  {
   "cell_type": "code",
   "execution_count": 140,
   "id": "2f614b95",
   "metadata": {},
   "outputs": [],
   "source": [
    "def add(username, password, a, b):\n",
    "    if username in users and users[username] == password:\n",
    "        print('Authenticated')\n",
    "        print(a+b)\n",
    "    else:\n",
    "        print('Not Authenticated')"
   ]
  },
  {
   "cell_type": "code",
   "execution_count": 141,
   "id": "b054b85f",
   "metadata": {},
   "outputs": [
    {
     "name": "stdout",
     "output_type": "stream",
     "text": [
      "Authenticated\n",
      "50\n"
     ]
    }
   ],
   "source": [
    "add('Chirag', 'password', 20, 30)"
   ]
  },
  {
   "cell_type": "code",
   "execution_count": 147,
   "id": "c541f075",
   "metadata": {},
   "outputs": [],
   "source": [
    "def add(a, b):\n",
    "    return a+b"
   ]
  },
  {
   "cell_type": "code",
   "execution_count": 151,
   "id": "cfa8b7fe",
   "metadata": {},
   "outputs": [],
   "source": [
    "def login_requ(abc):\n",
    "    def wrapper(username, password, *args):\n",
    "        if username in users and users[username] == password:\n",
    "            print('Authenticated')\n",
    "            print(abc(*args))\n",
    "        else:\n",
    "            print('Not Authenticated')\n",
    "    return wrapper"
   ]
  },
  {
   "cell_type": "code",
   "execution_count": 152,
   "id": "26dcf117",
   "metadata": {},
   "outputs": [],
   "source": [
    "prot_add = login_requ(add)"
   ]
  },
  {
   "cell_type": "code",
   "execution_count": 153,
   "id": "2005cbf0",
   "metadata": {},
   "outputs": [
    {
     "name": "stdout",
     "output_type": "stream",
     "text": [
      "Authenticated\n",
      "70\n"
     ]
    }
   ],
   "source": [
    "prot_add('Abhijeet', '12345678', 20, 50)"
   ]
  },
  {
   "cell_type": "code",
   "execution_count": 154,
   "id": "d6c2f748",
   "metadata": {},
   "outputs": [
    {
     "data": {
      "text/plain": [
       "50"
      ]
     },
     "execution_count": 154,
     "metadata": {},
     "output_type": "execute_result"
    }
   ],
   "source": [
    "add(20, 30)"
   ]
  },
  {
   "cell_type": "code",
   "execution_count": 155,
   "id": "5d79bac8",
   "metadata": {},
   "outputs": [],
   "source": [
    "add = login_requ(add)"
   ]
  },
  {
   "cell_type": "code",
   "execution_count": 157,
   "id": "9b9d86e3",
   "metadata": {},
   "outputs": [
    {
     "name": "stdout",
     "output_type": "stream",
     "text": [
      "Authenticated\n",
      "50\n"
     ]
    }
   ],
   "source": [
    "add('Abhijeet', '12345678', 20, 30)"
   ]
  },
  {
   "cell_type": "code",
   "execution_count": 158,
   "id": "4b5eb049",
   "metadata": {},
   "outputs": [
    {
     "name": "stdout",
     "output_type": "stream",
     "text": [
      "Not Authenticated\n"
     ]
    }
   ],
   "source": [
    "add(20, 30)"
   ]
  },
  {
   "cell_type": "code",
   "execution_count": 159,
   "id": "9e60ee9d",
   "metadata": {},
   "outputs": [],
   "source": [
    "def add(a, b):\n",
    "    return a+b\n",
    "add = login_requ(add)"
   ]
  },
  {
   "cell_type": "code",
   "execution_count": 160,
   "id": "b25853d8",
   "metadata": {},
   "outputs": [],
   "source": [
    "@login_requ\n",
    "def add(a, b):\n",
    "    return a+b"
   ]
  },
  {
   "cell_type": "code",
   "execution_count": 161,
   "id": "2da040a8",
   "metadata": {},
   "outputs": [
    {
     "name": "stdout",
     "output_type": "stream",
     "text": [
      "Authenticated\n",
      "34\n"
     ]
    }
   ],
   "source": [
    "add('Chirag', 'password', 1, 33)"
   ]
  },
  {
   "cell_type": "code",
   "execution_count": 163,
   "id": "1544fa0c",
   "metadata": {},
   "outputs": [],
   "source": [
    "import numpy as np"
   ]
  },
  {
   "cell_type": "code",
   "execution_count": 164,
   "id": "92134881",
   "metadata": {},
   "outputs": [],
   "source": [
    "np?"
   ]
  },
  {
   "cell_type": "code",
   "execution_count": null,
   "id": "314e0d5f",
   "metadata": {},
   "outputs": [],
   "source": []
  }
 ],
 "metadata": {
  "kernelspec": {
   "display_name": "Python 3 (ipykernel)",
   "language": "python",
   "name": "python3"
  },
  "language_info": {
   "codemirror_mode": {
    "name": "ipython",
    "version": 3
   },
   "file_extension": ".py",
   "mimetype": "text/x-python",
   "name": "python",
   "nbconvert_exporter": "python",
   "pygments_lexer": "ipython3",
   "version": "3.8.10"
  }
 },
 "nbformat": 4,
 "nbformat_minor": 5
}
