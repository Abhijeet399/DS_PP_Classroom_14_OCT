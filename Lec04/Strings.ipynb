{
 "cells": [
  {
   "cell_type": "code",
   "execution_count": 3,
   "id": "2f74aee9",
   "metadata": {},
   "outputs": [],
   "source": [
    "# In built data structures in Python\n",
    "# 1. String\n",
    "# 2. Lists\n",
    "# 3. Tuples\n",
    "# 4. Dictionaries\n",
    "# 5. Sets"
   ]
  },
  {
   "cell_type": "code",
   "execution_count": 4,
   "id": "209e304a",
   "metadata": {},
   "outputs": [],
   "source": [
    "# String"
   ]
  },
  {
   "cell_type": "code",
   "execution_count": 9,
   "id": "9c7f6d98",
   "metadata": {},
   "outputs": [],
   "source": [
    "var = 'abhijeet'"
   ]
  },
  {
   "cell_type": "code",
   "execution_count": 6,
   "id": "4d78974a",
   "metadata": {},
   "outputs": [
    {
     "data": {
      "text/plain": [
       "str"
      ]
     },
     "execution_count": 6,
     "metadata": {},
     "output_type": "execute_result"
    }
   ],
   "source": [
    "type(var)"
   ]
  },
  {
   "cell_type": "code",
   "execution_count": 7,
   "id": "1c76c006",
   "metadata": {},
   "outputs": [],
   "source": [
    "var = 'a'"
   ]
  },
  {
   "cell_type": "code",
   "execution_count": 8,
   "id": "b3b7a9aa",
   "metadata": {},
   "outputs": [
    {
     "data": {
      "text/plain": [
       "str"
      ]
     },
     "execution_count": 8,
     "metadata": {},
     "output_type": "execute_result"
    }
   ],
   "source": [
    "type(var)"
   ]
  },
  {
   "cell_type": "code",
   "execution_count": 20,
   "id": "43e8567c",
   "metadata": {},
   "outputs": [],
   "source": [
    "var = '123456'"
   ]
  },
  {
   "cell_type": "code",
   "execution_count": 21,
   "id": "ee2115d3",
   "metadata": {},
   "outputs": [
    {
     "name": "stdout",
     "output_type": "stream",
     "text": [
      "97\n"
     ]
    }
   ],
   "source": [
    "print(ord('a'))"
   ]
  },
  {
   "cell_type": "code",
   "execution_count": 22,
   "id": "f37a05a1",
   "metadata": {},
   "outputs": [
    {
     "name": "stdout",
     "output_type": "stream",
     "text": [
      "2629852025840 2629852025840\n"
     ]
    }
   ],
   "source": [
    "var\n",
    "temp = var\n",
    "print(id(var), id(temp))"
   ]
  },
  {
   "cell_type": "code",
   "execution_count": 28,
   "id": "d063b28b",
   "metadata": {},
   "outputs": [
    {
     "name": "stdout",
     "output_type": "stream",
     "text": [
      "2629852096496 2629852025840\n"
     ]
    }
   ],
   "source": [
    "var = 'Abhijeet'\n",
    "print(id(var), id(temp))"
   ]
  },
  {
   "cell_type": "code",
   "execution_count": 27,
   "id": "565c78ed",
   "metadata": {},
   "outputs": [
    {
     "data": {
      "text/plain": [
       "'h'"
      ]
     },
     "execution_count": 27,
     "metadata": {},
     "output_type": "execute_result"
    }
   ],
   "source": [
    "var[2]"
   ]
  },
  {
   "cell_type": "code",
   "execution_count": 32,
   "id": "5bf3097b",
   "metadata": {},
   "outputs": [
    {
     "name": "stdout",
     "output_type": "stream",
     "text": [
      "Hello my name is Abhijeet\n"
     ]
    }
   ],
   "source": [
    "print('Hello my name is {}'.format(var))"
   ]
  },
  {
   "cell_type": "code",
   "execution_count": 33,
   "id": "3ee4b952",
   "metadata": {},
   "outputs": [],
   "source": [
    "string = 'Hello my name is {}'.format(var)"
   ]
  },
  {
   "cell_type": "code",
   "execution_count": 34,
   "id": "7237c6a5",
   "metadata": {},
   "outputs": [
    {
     "data": {
      "text/plain": [
       "'Hello my name is Abhijeet'"
      ]
     },
     "execution_count": 34,
     "metadata": {},
     "output_type": "execute_result"
    }
   ],
   "source": [
    "string"
   ]
  },
  {
   "cell_type": "code",
   "execution_count": 35,
   "id": "b4708683",
   "metadata": {},
   "outputs": [],
   "source": [
    "string = f'Hello my name is {var}'"
   ]
  },
  {
   "cell_type": "code",
   "execution_count": 42,
   "id": "a7494295",
   "metadata": {},
   "outputs": [
    {
     "name": "stdout",
     "output_type": "stream",
     "text": [
      "What is your age?20\n"
     ]
    }
   ],
   "source": [
    "temp_input = int(input('What is your age?'))"
   ]
  },
  {
   "cell_type": "code",
   "execution_count": 43,
   "id": "49b9f20f",
   "metadata": {},
   "outputs": [
    {
     "name": "stdout",
     "output_type": "stream",
     "text": [
      "20 <class 'int'>\n"
     ]
    }
   ],
   "source": [
    "print(temp_input, type(temp_input))"
   ]
  },
  {
   "cell_type": "code",
   "execution_count": 48,
   "id": "de791ac8",
   "metadata": {},
   "outputs": [
    {
     "name": "stdout",
     "output_type": "stream",
     "text": [
      "01234567"
     ]
    }
   ],
   "source": [
    "for i in range(len(var)):\n",
    "    print(i, end='')"
   ]
  },
  {
   "cell_type": "code",
   "execution_count": 49,
   "id": "91f62925",
   "metadata": {},
   "outputs": [
    {
     "data": {
      "text/plain": [
       "8"
      ]
     },
     "execution_count": 49,
     "metadata": {},
     "output_type": "execute_result"
    }
   ],
   "source": [
    "len(var)"
   ]
  },
  {
   "cell_type": "code",
   "execution_count": 58,
   "id": "b38e6f94",
   "metadata": {},
   "outputs": [],
   "source": [
    "def palindrome(string):\n",
    "    for i in range(int(len(string)/2)):\n",
    "        if string[i] != string[len(string) - 1 - i]:\n",
    "            return False\n",
    "    return True"
   ]
  },
  {
   "cell_type": "code",
   "execution_count": 59,
   "id": "2f2b4494",
   "metadata": {},
   "outputs": [
    {
     "data": {
      "text/plain": [
       "True"
      ]
     },
     "execution_count": 59,
     "metadata": {},
     "output_type": "execute_result"
    }
   ],
   "source": [
    "palindrome('racecar')"
   ]
  },
  {
   "cell_type": "code",
   "execution_count": 71,
   "id": "950886e8",
   "metadata": {},
   "outputs": [],
   "source": [
    "def lower_upper(string):\n",
    "    for i in string:\n",
    "        print(chr(ord(i) - 32), end='')"
   ]
  },
  {
   "cell_type": "code",
   "execution_count": 72,
   "id": "ff049c02",
   "metadata": {},
   "outputs": [
    {
     "name": "stdout",
     "output_type": "stream",
     "text": [
      "ABHIJEET"
     ]
    }
   ],
   "source": [
    "lower_upper('abhijeet')"
   ]
  },
  {
   "cell_type": "code",
   "execution_count": 74,
   "id": "9a84d4c2",
   "metadata": {},
   "outputs": [],
   "source": [
    "def upper_lower(string):\n",
    "    for i in string:\n",
    "        print(chr(ord(i) + 32), end='')"
   ]
  },
  {
   "cell_type": "code",
   "execution_count": 75,
   "id": "f2d09646",
   "metadata": {},
   "outputs": [
    {
     "name": "stdout",
     "output_type": "stream",
     "text": [
      "abhijeet"
     ]
    }
   ],
   "source": [
    "upper_lower('ABHIJEET')"
   ]
  },
  {
   "cell_type": "code",
   "execution_count": 78,
   "id": "fdbd8ee1",
   "metadata": {},
   "outputs": [
    {
     "data": {
      "text/plain": [
       "'Hello My Name Is ABHijeet'"
      ]
     },
     "execution_count": 78,
     "metadata": {},
     "output_type": "execute_result"
    }
   ],
   "source": [
    "'Hello My Name Is ABHijeet'"
   ]
  },
  {
   "cell_type": "code",
   "execution_count": 84,
   "id": "8ed9f9cc",
   "metadata": {},
   "outputs": [],
   "source": [
    "def only_lower_upper(string):\n",
    "    for i in string:\n",
    "        if ord(i) > 96 and ord(i) < 123:\n",
    "            print(chr(ord(i) - 32), end='')\n",
    "        else:\n",
    "            print(i, end='')"
   ]
  },
  {
   "cell_type": "code",
   "execution_count": 85,
   "id": "19b3efd4",
   "metadata": {},
   "outputs": [
    {
     "name": "stdout",
     "output_type": "stream",
     "text": [
      "HELLO MY NAME IS ABHIJEET"
     ]
    }
   ],
   "source": [
    "only_lower_upper('Hello My Name Is ABHijeet')"
   ]
  },
  {
   "cell_type": "code",
   "execution_count": 86,
   "id": "f205e6d2",
   "metadata": {},
   "outputs": [],
   "source": [
    "# Strip method"
   ]
  },
  {
   "cell_type": "code",
   "execution_count": 90,
   "id": "fcb4705e",
   "metadata": {},
   "outputs": [
    {
     "name": "stdout",
     "output_type": "stream",
     "text": [
      "yes \n",
      "Try again\n"
     ]
    }
   ],
   "source": [
    "if input() == 'yes':\n",
    "    print('Authenticated')\n",
    "else:\n",
    "    print('Try again')"
   ]
  },
  {
   "cell_type": "code",
   "execution_count": 102,
   "id": "013f93ec",
   "metadata": {},
   "outputs": [
    {
     "name": "stdout",
     "output_type": "stream",
     "text": [
      "           yes            \n",
      "Authenticated\n"
     ]
    }
   ],
   "source": [
    "if input().strip() == 'yes':\n",
    "    print('Authenticated')\n",
    "else:\n",
    "    print('Try again')"
   ]
  },
  {
   "cell_type": "code",
   "execution_count": 103,
   "id": "7442c849",
   "metadata": {},
   "outputs": [
    {
     "data": {
      "text/plain": [
       "'Hello My Name Is ABHijeet'"
      ]
     },
     "execution_count": 103,
     "metadata": {},
     "output_type": "execute_result"
    }
   ],
   "source": [
    "'        Hello My Name Is ABHijeet         '.strip()"
   ]
  },
  {
   "cell_type": "code",
   "execution_count": 107,
   "id": "c72bfc0a",
   "metadata": {},
   "outputs": [
    {
     "name": "stdout",
     "output_type": "stream",
     "text": [
      "ldzkfbvkldjlfbnvf"
     ]
    }
   ],
   "source": [
    "inp = '   ldzkfbvkldjlfbnvf     '\n",
    "def to_strip(string):\n",
    "    for i in string:\n",
    "        if i != ' ':\n",
    "            print(i, end='')\n",
    "to_strip(inp)"
   ]
  },
  {
   "cell_type": "code",
   "execution_count": 121,
   "id": "38a206cf",
   "metadata": {},
   "outputs": [],
   "source": [
    "def calculator(a, b):\n",
    "    print(a + b)\n",
    "    return a + b"
   ]
  },
  {
   "cell_type": "code",
   "execution_count": 122,
   "id": "4e5777e4",
   "metadata": {},
   "outputs": [
    {
     "name": "stdout",
     "output_type": "stream",
     "text": [
      "30\n"
     ]
    }
   ],
   "source": [
    "s = calculator(10, 20)"
   ]
  },
  {
   "cell_type": "code",
   "execution_count": 124,
   "id": "633cb85c",
   "metadata": {},
   "outputs": [
    {
     "name": "stdout",
     "output_type": "stream",
     "text": [
      "3.0\n"
     ]
    }
   ],
   "source": [
    "print(s/10)"
   ]
  },
  {
   "cell_type": "code",
   "execution_count": 131,
   "id": "e1e884d4",
   "metadata": {},
   "outputs": [
    {
     "name": "stdout",
     "output_type": "stream",
     "text": [
      "1\n",
      "2\n",
      "3\n",
      "4\n",
      "6\n",
      "7\n",
      "8\n",
      "9\n",
      "10\n"
     ]
    }
   ],
   "source": [
    "a = 0\n",
    "while (a < 10):\n",
    "    a = a + 1\n",
    "    if (a == 5):\n",
    "        continue\n",
    "    print(a)"
   ]
  },
  {
   "cell_type": "code",
   "execution_count": null,
   "id": "428b4540",
   "metadata": {},
   "outputs": [],
   "source": []
  }
 ],
 "metadata": {
  "kernelspec": {
   "display_name": "Python 3 (ipykernel)",
   "language": "python",
   "name": "python3"
  },
  "language_info": {
   "codemirror_mode": {
    "name": "ipython",
    "version": 3
   },
   "file_extension": ".py",
   "mimetype": "text/x-python",
   "name": "python",
   "nbconvert_exporter": "python",
   "pygments_lexer": "ipython3",
   "version": "3.8.10"
  }
 },
 "nbformat": 4,
 "nbformat_minor": 5
}
