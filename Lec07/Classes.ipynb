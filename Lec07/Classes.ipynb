{
 "cells": [
  {
   "cell_type": "markdown",
   "id": "7c4a9ddf",
   "metadata": {},
   "source": [
    "# Classes"
   ]
  },
  {
   "cell_type": "code",
   "execution_count": 8,
   "id": "1b408f60",
   "metadata": {},
   "outputs": [
    {
     "name": "stdout",
     "output_type": "stream",
     "text": [
      "<class 'list'>\n"
     ]
    }
   ],
   "source": [
    "print(type([1, 2, 3]))"
   ]
  },
  {
   "cell_type": "code",
   "execution_count": 94,
   "id": "a93f4fcf",
   "metadata": {},
   "outputs": [
    {
     "name": "stdout",
     "output_type": "stream",
     "text": [
      "Abhijeet\n"
     ]
    }
   ],
   "source": [
    "class DataScience:\n",
    "    topic = 'Classes'\n",
    "    mentor = input()"
   ]
  },
  {
   "cell_type": "code",
   "execution_count": 95,
   "id": "d0318b24",
   "metadata": {},
   "outputs": [
    {
     "name": "stdout",
     "output_type": "stream",
     "text": [
      "Abhijeet\n"
     ]
    }
   ],
   "source": [
    "print(DataScience.mentor)"
   ]
  },
  {
   "cell_type": "code",
   "execution_count": 96,
   "id": "c090edf5",
   "metadata": {},
   "outputs": [],
   "source": [
    "rohan = DataScience()"
   ]
  },
  {
   "cell_type": "code",
   "execution_count": 97,
   "id": "a4aea5d9",
   "metadata": {},
   "outputs": [
    {
     "name": "stdout",
     "output_type": "stream",
     "text": [
      "Classes\n"
     ]
    }
   ],
   "source": [
    "print(rohan.topic)"
   ]
  },
  {
   "cell_type": "code",
   "execution_count": 98,
   "id": "2413c962",
   "metadata": {},
   "outputs": [],
   "source": [
    "peter = DataScience()"
   ]
  },
  {
   "cell_type": "code",
   "execution_count": 99,
   "id": "4686f8f7",
   "metadata": {},
   "outputs": [
    {
     "name": "stdout",
     "output_type": "stream",
     "text": [
      "Abhijeet\n"
     ]
    }
   ],
   "source": [
    "print(peter.mentor)"
   ]
  },
  {
   "cell_type": "code",
   "execution_count": 100,
   "id": "1c1cc0ef",
   "metadata": {},
   "outputs": [
    {
     "name": "stdout",
     "output_type": "stream",
     "text": [
      "Abhijeet Abhijeet Abhijeet\n"
     ]
    }
   ],
   "source": [
    "print(rohan.mentor, DataScience.mentor, peter.mentor)"
   ]
  },
  {
   "cell_type": "code",
   "execution_count": 101,
   "id": "4aa9e5b9",
   "metadata": {},
   "outputs": [
    {
     "name": "stdout",
     "output_type": "stream",
     "text": [
      "2220699879088 2220699879088 2220699879088\n"
     ]
    }
   ],
   "source": [
    "print(id(rohan.mentor), id(DataScience.mentor), id(peter.mentor))"
   ]
  },
  {
   "cell_type": "code",
   "execution_count": 102,
   "id": "34dd8f9f",
   "metadata": {},
   "outputs": [],
   "source": [
    "class Web_dev:\n",
    "    topic = 'HTML'\n",
    "    mentor = 'Abhijeet'"
   ]
  },
  {
   "cell_type": "code",
   "execution_count": 103,
   "id": "1587a3f9",
   "metadata": {},
   "outputs": [
    {
     "name": "stdout",
     "output_type": "stream",
     "text": [
      "Abhijeet\n"
     ]
    }
   ],
   "source": [
    "print(rohan.mentor)"
   ]
  },
  {
   "cell_type": "code",
   "execution_count": 104,
   "id": "823f4481",
   "metadata": {},
   "outputs": [],
   "source": [
    "xyz = Web_dev()"
   ]
  },
  {
   "cell_type": "code",
   "execution_count": 105,
   "id": "194d0ef1",
   "metadata": {},
   "outputs": [
    {
     "name": "stdout",
     "output_type": "stream",
     "text": [
      "2220685666032 2220699879088\n"
     ]
    }
   ],
   "source": [
    "print(id(Web_dev.mentor), id(DataScience.mentor))"
   ]
  },
  {
   "cell_type": "code",
   "execution_count": 106,
   "id": "bcb3fcd3",
   "metadata": {},
   "outputs": [
    {
     "name": "stdout",
     "output_type": "stream",
     "text": [
      "2220705235664 2220705236240\n"
     ]
    }
   ],
   "source": [
    "a = -6\n",
    "b = -6\n",
    "print(id(a), id(b))"
   ]
  },
  {
   "cell_type": "code",
   "execution_count": 107,
   "id": "ffeeef34",
   "metadata": {},
   "outputs": [
    {
     "data": {
      "text/plain": [
       "<__main__.Web_dev at 0x2050bf20b20>"
      ]
     },
     "execution_count": 107,
     "metadata": {},
     "output_type": "execute_result"
    }
   ],
   "source": [
    "xyz"
   ]
  },
  {
   "cell_type": "code",
   "execution_count": 108,
   "id": "0a6beea4",
   "metadata": {},
   "outputs": [
    {
     "name": "stdout",
     "output_type": "stream",
     "text": [
      "2220698496496 2220698496496 2220698496496\n",
      "ML ML ML\n"
     ]
    }
   ],
   "source": [
    "DataScience.topic = 'ML'\n",
    "print(id(rohan.topic), id(DataScience.topic), id(peter.topic))\n",
    "print(rohan.topic, peter.topic, DataScience.topic)"
   ]
  },
  {
   "cell_type": "code",
   "execution_count": 109,
   "id": "215e0a6e",
   "metadata": {},
   "outputs": [
    {
     "name": "stdout",
     "output_type": "stream",
     "text": [
      "2220678959792\n",
      "2220623311024\n"
     ]
    }
   ],
   "source": [
    "a = 'hello'\n",
    "print(id(a))\n",
    "a = 'hi'\n",
    "print(id(a))"
   ]
  },
  {
   "cell_type": "code",
   "execution_count": 110,
   "id": "75bfcf3c",
   "metadata": {},
   "outputs": [
    {
     "name": "stdout",
     "output_type": "stream",
     "text": [
      "Abhijeet Abhijeet Abhijeet\n"
     ]
    }
   ],
   "source": [
    "print(rohan.mentor, peter.mentor, DataScience.mentor)"
   ]
  },
  {
   "cell_type": "code",
   "execution_count": 111,
   "id": "41287fa6",
   "metadata": {},
   "outputs": [],
   "source": [
    "DataScience.place = 'Pitampura'"
   ]
  },
  {
   "cell_type": "code",
   "execution_count": 112,
   "id": "dcbd7733",
   "metadata": {},
   "outputs": [
    {
     "name": "stdout",
     "output_type": "stream",
     "text": [
      "Pitampura Pitampura Pitampura\n"
     ]
    }
   ],
   "source": [
    "print(rohan.place, peter.place, DataScience.place)"
   ]
  },
  {
   "cell_type": "code",
   "execution_count": 113,
   "id": "96dc5040",
   "metadata": {},
   "outputs": [],
   "source": [
    "rohan.place = 'BDG'\n",
    "peter.place = 'FD'"
   ]
  },
  {
   "cell_type": "code",
   "execution_count": 114,
   "id": "af1785c4",
   "metadata": {},
   "outputs": [
    {
     "data": {
      "text/plain": [
       "'Pitampura'"
      ]
     },
     "execution_count": 114,
     "metadata": {},
     "output_type": "execute_result"
    }
   ],
   "source": [
    "DataScience.place"
   ]
  },
  {
   "cell_type": "code",
   "execution_count": 115,
   "id": "4533be57",
   "metadata": {},
   "outputs": [
    {
     "name": "stdout",
     "output_type": "stream",
     "text": [
      "BDG FD\n"
     ]
    }
   ],
   "source": [
    "print(rohan.place, peter.place)"
   ]
  },
  {
   "cell_type": "code",
   "execution_count": 1,
   "id": "aaa21acd",
   "metadata": {},
   "outputs": [],
   "source": [
    "class DataScience:\n",
    "    topic = 'Classes'\n",
    "    mentor = 'Abhijeet'\n",
    "    \n",
    "    def details(self):\n",
    "        print('self.topic')\n",
    "        print('self.mentor')\n",
    "    \n",
    "    def sumer(self, a, b):\n",
    "        return a + b"
   ]
  },
  {
   "cell_type": "code",
   "execution_count": 3,
   "id": "f0916e0c",
   "metadata": {},
   "outputs": [
    {
     "name": "stdout",
     "output_type": "stream",
     "text": [
      "self.topic\n",
      "self.mentor\n",
      "None\n"
     ]
    }
   ],
   "source": [
    "print(DataScience.details(DataScience))"
   ]
  },
  {
   "cell_type": "code",
   "execution_count": 4,
   "id": "9fc7c684",
   "metadata": {},
   "outputs": [],
   "source": [
    "rohan = DataScience()"
   ]
  },
  {
   "cell_type": "code",
   "execution_count": 5,
   "id": "52d4376d",
   "metadata": {},
   "outputs": [
    {
     "name": "stdout",
     "output_type": "stream",
     "text": [
      "self.topic\n",
      "self.mentor\n",
      "None\n"
     ]
    }
   ],
   "source": [
    "print(rohan.details())"
   ]
  },
  {
   "cell_type": "code",
   "execution_count": 6,
   "id": "f590f88c",
   "metadata": {},
   "outputs": [
    {
     "name": "stdout",
     "output_type": "stream",
     "text": [
      "self.topic\n",
      "self.mentor\n"
     ]
    }
   ],
   "source": [
    "DataScience.details('hello')"
   ]
  },
  {
   "cell_type": "code",
   "execution_count": 8,
   "id": "3dcd14b0",
   "metadata": {},
   "outputs": [
    {
     "data": {
      "text/plain": [
       "3"
      ]
     },
     "execution_count": 8,
     "metadata": {},
     "output_type": "execute_result"
    }
   ],
   "source": [
    "DataScience().sumer(1, 2)"
   ]
  },
  {
   "cell_type": "code",
   "execution_count": 9,
   "id": "fd2fa974",
   "metadata": {},
   "outputs": [
    {
     "data": {
      "text/plain": [
       "9773"
      ]
     },
     "execution_count": 9,
     "metadata": {},
     "output_type": "execute_result"
    }
   ],
   "source": [
    "DataScience.sumer(DataScience, 3230, 6543)"
   ]
  },
  {
   "cell_type": "code",
   "execution_count": null,
   "id": "4b382e7b",
   "metadata": {},
   "outputs": [],
   "source": []
  }
 ],
 "metadata": {
  "kernelspec": {
   "display_name": "Python 3 (ipykernel)",
   "language": "python",
   "name": "python3"
  },
  "language_info": {
   "codemirror_mode": {
    "name": "ipython",
    "version": 3
   },
   "file_extension": ".py",
   "mimetype": "text/x-python",
   "name": "python",
   "nbconvert_exporter": "python",
   "pygments_lexer": "ipython3",
   "version": "3.8.10"
  }
 },
 "nbformat": 4,
 "nbformat_minor": 5
}
