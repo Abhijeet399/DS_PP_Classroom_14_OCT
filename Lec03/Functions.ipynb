{
 "cells": [
  {
   "cell_type": "code",
   "execution_count": 1,
   "id": "a5d97876",
   "metadata": {},
   "outputs": [
    {
     "name": "stdout",
     "output_type": "stream",
     "text": [
      "1.0\n"
     ]
    }
   ],
   "source": [
    "print(2 / 2)"
   ]
  },
  {
   "cell_type": "code",
   "execution_count": 2,
   "id": "4ff89bcb",
   "metadata": {},
   "outputs": [
    {
     "name": "stdout",
     "output_type": "stream",
     "text": [
      "1\n"
     ]
    }
   ],
   "source": [
    "print(int(2/2))"
   ]
  },
  {
   "cell_type": "code",
   "execution_count": 12,
   "id": "61d72de1",
   "metadata": {},
   "outputs": [
    {
     "name": "stdout",
     "output_type": "stream",
     "text": [
      "10\n",
      "9\n",
      "8\n",
      "7\n",
      "6\n",
      "5\n",
      "4\n",
      "3\n",
      "2\n",
      "1\n",
      "0\n",
      "-1\n",
      "-2\n",
      "-3\n",
      "-4\n",
      "-5\n",
      "-6\n",
      "-7\n",
      "-8\n",
      "-9\n"
     ]
    }
   ],
   "source": [
    "for i in range(10, -10, -1):\n",
    "    print(i)"
   ]
  },
  {
   "cell_type": "code",
   "execution_count": 13,
   "id": "6df43acb",
   "metadata": {},
   "outputs": [],
   "source": [
    "# Functions "
   ]
  },
  {
   "cell_type": "code",
   "execution_count": 14,
   "id": "58b1b345",
   "metadata": {},
   "outputs": [
    {
     "name": "stdout",
     "output_type": "stream",
     "text": [
      "hello\n"
     ]
    }
   ],
   "source": [
    "print('hello')"
   ]
  },
  {
   "cell_type": "code",
   "execution_count": 15,
   "id": "f389b741",
   "metadata": {},
   "outputs": [],
   "source": [
    "# In built functions\n",
    "# type(), range(), str(), int(), float(), bool(), chr(), "
   ]
  },
  {
   "cell_type": "code",
   "execution_count": 42,
   "id": "c6d829d0",
   "metadata": {},
   "outputs": [],
   "source": [
    "a = '257'"
   ]
  },
  {
   "cell_type": "code",
   "execution_count": 43,
   "id": "a0e11218",
   "metadata": {},
   "outputs": [],
   "source": [
    "b = '257'"
   ]
  },
  {
   "cell_type": "code",
   "execution_count": 44,
   "id": "25c5625a",
   "metadata": {},
   "outputs": [
    {
     "name": "stdout",
     "output_type": "stream",
     "text": [
      "1723486363504 1723486363504\n"
     ]
    }
   ],
   "source": [
    "print(id(a), id(b))"
   ]
  },
  {
   "cell_type": "code",
   "execution_count": 50,
   "id": "f717cbc6",
   "metadata": {},
   "outputs": [],
   "source": [
    "def kuch_bhi():\n",
    "    print('NUMBERS')\n",
    "    print(hello)"
   ]
  },
  {
   "cell_type": "code",
   "execution_count": 51,
   "id": "9e81add2",
   "metadata": {},
   "outputs": [
    {
     "name": "stdout",
     "output_type": "stream",
     "text": [
      "NUMBERS\n",
      "HELLO\n"
     ]
    }
   ],
   "source": [
    "hello = \"HELLO\"\n",
    "kuch_bhi()"
   ]
  },
  {
   "cell_type": "code",
   "execution_count": 61,
   "id": "f1067505",
   "metadata": {},
   "outputs": [],
   "source": [
    "def odd_even(num):\n",
    "    if num%2 == 0:\n",
    "        print('Even')\n",
    "    else:\n",
    "        print('ODD')\n",
    "    return 0"
   ]
  },
  {
   "cell_type": "code",
   "execution_count": 62,
   "id": "5ec17c56",
   "metadata": {},
   "outputs": [
    {
     "name": "stdout",
     "output_type": "stream",
     "text": [
      "Even\n",
      "0\n"
     ]
    }
   ],
   "source": [
    "print(odd_even(10))"
   ]
  },
  {
   "cell_type": "code",
   "execution_count": 64,
   "id": "ab9bdbe7",
   "metadata": {},
   "outputs": [],
   "source": [
    "def temp(p, q, r):\n",
    "    print(p, q, r)\n",
    "    return p, q, r"
   ]
  },
  {
   "cell_type": "code",
   "execution_count": 67,
   "id": "d40640be",
   "metadata": {},
   "outputs": [
    {
     "name": "stdout",
     "output_type": "stream",
     "text": [
      "10 32 455\n"
     ]
    }
   ],
   "source": [
    "_, _, _ = temp(10, 32, 455)"
   ]
  },
  {
   "cell_type": "code",
   "execution_count": 73,
   "id": "014564b0",
   "metadata": {},
   "outputs": [],
   "source": [
    "def fibonacci(n):\n",
    "    prev = 0\n",
    "    nxt = 1\n",
    "    for i in range(n):\n",
    "        temp = nxt\n",
    "        nxt += prev\n",
    "        prev = temp\n",
    "    return prev"
   ]
  },
  {
   "cell_type": "code",
   "execution_count": 75,
   "id": "8d85d31a",
   "metadata": {},
   "outputs": [
    {
     "data": {
      "text/plain": [
       "55"
      ]
     },
     "execution_count": 75,
     "metadata": {},
     "output_type": "execute_result"
    }
   ],
   "source": [
    "fibonacci(10)"
   ]
  },
  {
   "cell_type": "code",
   "execution_count": 84,
   "id": "26ceb16f",
   "metadata": {},
   "outputs": [],
   "source": [
    "def reverse_num(num):\n",
    "    ans = 0\n",
    "    while (num > 0):\n",
    "        temp = num%10\n",
    "        print(num%10)\n",
    "        ans = ans*10 + temp\n",
    "        num = int(num/10)\n",
    "    return ans"
   ]
  },
  {
   "cell_type": "code",
   "execution_count": 85,
   "id": "635cffa7",
   "metadata": {},
   "outputs": [
    {
     "name": "stdout",
     "output_type": "stream",
     "text": [
      "6\n",
      "5\n",
      "4\n",
      "3\n",
      "2\n",
      "1\n",
      "654321\n"
     ]
    }
   ],
   "source": [
    "print(reverse_num(123456))"
   ]
  },
  {
   "cell_type": "code",
   "execution_count": 86,
   "id": "84f543c4",
   "metadata": {},
   "outputs": [],
   "source": [
    "# 1. Positional Argument\n",
    "# 2. Default Argument\n",
    "# 3. Variable Length Argument"
   ]
  },
  {
   "cell_type": "code",
   "execution_count": 87,
   "id": "7520d89a",
   "metadata": {},
   "outputs": [],
   "source": [
    "def temp(a, b):\n",
    "    print(a, b)"
   ]
  },
  {
   "cell_type": "code",
   "execution_count": 91,
   "id": "e75b624a",
   "metadata": {},
   "outputs": [
    {
     "name": "stdout",
     "output_type": "stream",
     "text": [
      "1 2\n"
     ]
    }
   ],
   "source": [
    "temp(1, 2)"
   ]
  },
  {
   "cell_type": "code",
   "execution_count": 96,
   "id": "ca1d0122",
   "metadata": {},
   "outputs": [],
   "source": [
    "def calculator(a, b = 5):\n",
    "    print(a + b)\n",
    "    print(a - b)\n",
    "    print(a * b)\n",
    "    print(a / b)"
   ]
  },
  {
   "cell_type": "code",
   "execution_count": 98,
   "id": "96084024",
   "metadata": {},
   "outputs": [
    {
     "name": "stdout",
     "output_type": "stream",
     "text": [
      "120\n",
      "-80\n",
      "2000\n",
      "0.2\n"
     ]
    }
   ],
   "source": [
    "calculator(20, 100)"
   ]
  },
  {
   "cell_type": "code",
   "execution_count": 100,
   "id": "c121a512",
   "metadata": {},
   "outputs": [],
   "source": [
    "# In-built Data Structures\n",
    "# 1. Strings\n",
    "# 2. Lists\n",
    "# 3. Tuples\n",
    "# 4. Dictionaries\n",
    "# 5. Sets"
   ]
  },
  {
   "cell_type": "code",
   "execution_count": null,
   "id": "c07fcacb",
   "metadata": {},
   "outputs": [],
   "source": []
  }
 ],
 "metadata": {
  "kernelspec": {
   "display_name": "Python 3 (ipykernel)",
   "language": "python",
   "name": "python3"
  },
  "language_info": {
   "codemirror_mode": {
    "name": "ipython",
    "version": 3
   },
   "file_extension": ".py",
   "mimetype": "text/x-python",
   "name": "python",
   "nbconvert_exporter": "python",
   "pygments_lexer": "ipython3",
   "version": "3.8.10"
  }
 },
 "nbformat": 4,
 "nbformat_minor": 5
}
