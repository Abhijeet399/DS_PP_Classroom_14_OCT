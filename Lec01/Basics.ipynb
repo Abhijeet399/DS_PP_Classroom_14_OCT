{
 "cells": [
  {
   "cell_type": "code",
   "execution_count": 1,
   "id": "fe22ecbb",
   "metadata": {},
   "outputs": [],
   "source": [
    "var = 10"
   ]
  },
  {
   "cell_type": "code",
   "execution_count": 2,
   "id": "6437f980",
   "metadata": {},
   "outputs": [
    {
     "name": "stdout",
     "output_type": "stream",
     "text": [
      "10\n"
     ]
    }
   ],
   "source": [
    "print(var)"
   ]
  },
  {
   "cell_type": "code",
   "execution_count": 3,
   "id": "a6d08a14",
   "metadata": {},
   "outputs": [],
   "source": [
    "var = 20"
   ]
  },
  {
   "cell_type": "code",
   "execution_count": 4,
   "id": "4e474b0f",
   "metadata": {},
   "outputs": [
    {
     "name": "stdout",
     "output_type": "stream",
     "text": [
      "20\n"
     ]
    }
   ],
   "source": [
    "print(var)"
   ]
  },
  {
   "cell_type": "code",
   "execution_count": 17,
   "id": "9905c8b0",
   "metadata": {},
   "outputs": [],
   "source": [
    "hello = 2.5"
   ]
  },
  {
   "cell_type": "code",
   "execution_count": 18,
   "id": "21e3eb10",
   "metadata": {},
   "outputs": [
    {
     "name": "stdout",
     "output_type": "stream",
     "text": [
      "2.5\n"
     ]
    }
   ],
   "source": [
    "print(hello)"
   ]
  },
  {
   "cell_type": "code",
   "execution_count": 19,
   "id": "1fc397af",
   "metadata": {},
   "outputs": [],
   "source": [
    "hello = 2.0"
   ]
  },
  {
   "cell_type": "code",
   "execution_count": 20,
   "id": "c5f43cbd",
   "metadata": {},
   "outputs": [
    {
     "data": {
      "text/plain": [
       "float"
      ]
     },
     "execution_count": 20,
     "metadata": {},
     "output_type": "execute_result"
    }
   ],
   "source": [
    "type(hello)"
   ]
  },
  {
   "cell_type": "code",
   "execution_count": 21,
   "id": "b86c8749",
   "metadata": {},
   "outputs": [],
   "source": [
    "string = \"Hello World!\""
   ]
  },
  {
   "cell_type": "code",
   "execution_count": 22,
   "id": "fa4f5a89",
   "metadata": {},
   "outputs": [
    {
     "data": {
      "text/plain": [
       "str"
      ]
     },
     "execution_count": 22,
     "metadata": {},
     "output_type": "execute_result"
    }
   ],
   "source": [
    "type(string)"
   ]
  },
  {
   "cell_type": "code",
   "execution_count": 23,
   "id": "78908902",
   "metadata": {},
   "outputs": [],
   "source": [
    "string = 'Hello World!'"
   ]
  },
  {
   "cell_type": "code",
   "execution_count": 24,
   "id": "4f5518e7",
   "metadata": {},
   "outputs": [
    {
     "name": "stdout",
     "output_type": "stream",
     "text": [
      "Hello World!\n"
     ]
    }
   ],
   "source": [
    "print(string)"
   ]
  },
  {
   "cell_type": "code",
   "execution_count": 25,
   "id": "20b08c04",
   "metadata": {},
   "outputs": [
    {
     "data": {
      "text/plain": [
       "str"
      ]
     },
     "execution_count": 25,
     "metadata": {},
     "output_type": "execute_result"
    }
   ],
   "source": [
    "type(string)"
   ]
  },
  {
   "cell_type": "code",
   "execution_count": 26,
   "id": "c208f395",
   "metadata": {},
   "outputs": [],
   "source": [
    "a = True"
   ]
  },
  {
   "cell_type": "code",
   "execution_count": 27,
   "id": "b29c9f4d",
   "metadata": {},
   "outputs": [
    {
     "data": {
      "text/plain": [
       "bool"
      ]
     },
     "execution_count": 27,
     "metadata": {},
     "output_type": "execute_result"
    }
   ],
   "source": [
    "type(a)"
   ]
  },
  {
   "cell_type": "code",
   "execution_count": 52,
   "id": "483ef97a",
   "metadata": {},
   "outputs": [],
   "source": [
    "a = '5'"
   ]
  },
  {
   "cell_type": "code",
   "execution_count": 53,
   "id": "212395a6",
   "metadata": {},
   "outputs": [
    {
     "data": {
      "text/plain": [
       "str"
      ]
     },
     "execution_count": 53,
     "metadata": {},
     "output_type": "execute_result"
    }
   ],
   "source": [
    "type(a)"
   ]
  },
  {
   "cell_type": "code",
   "execution_count": 55,
   "id": "b4b4b038",
   "metadata": {},
   "outputs": [
    {
     "data": {
      "text/plain": [
       "'5'"
      ]
     },
     "execution_count": 55,
     "metadata": {},
     "output_type": "execute_result"
    }
   ],
   "source": [
    "a"
   ]
  },
  {
   "cell_type": "code",
   "execution_count": 56,
   "id": "9c8ec199",
   "metadata": {},
   "outputs": [
    {
     "data": {
      "text/plain": [
       "140731278563696"
      ]
     },
     "execution_count": 56,
     "metadata": {},
     "output_type": "execute_result"
    }
   ],
   "source": [
    "id(var)"
   ]
  },
  {
   "cell_type": "code",
   "execution_count": 58,
   "id": "fd7f8b81",
   "metadata": {},
   "outputs": [],
   "source": [
    "var = 200"
   ]
  },
  {
   "cell_type": "code",
   "execution_count": 59,
   "id": "59207b26",
   "metadata": {},
   "outputs": [
    {
     "name": "stdout",
     "output_type": "stream",
     "text": [
      "200 140731278569456\n"
     ]
    }
   ],
   "source": [
    "print(var, id(var))"
   ]
  },
  {
   "cell_type": "code",
   "execution_count": 68,
   "id": "87b0ca5b",
   "metadata": {},
   "outputs": [],
   "source": [
    "a = 10\n",
    "b = a"
   ]
  },
  {
   "cell_type": "code",
   "execution_count": 69,
   "id": "67b5c01c",
   "metadata": {},
   "outputs": [
    {
     "name": "stdout",
     "output_type": "stream",
     "text": [
      "140731278563376 140731278563376\n"
     ]
    }
   ],
   "source": [
    "print(id(a), id(b))"
   ]
  },
  {
   "cell_type": "code",
   "execution_count": 70,
   "id": "17bc7be7",
   "metadata": {},
   "outputs": [
    {
     "name": "stdout",
     "output_type": "stream",
     "text": [
      "20 10\n",
      "140731278563696 140731278563376\n"
     ]
    }
   ],
   "source": [
    "a = 20\n",
    "print(a, b)\n",
    "print(id(a), id(b))"
   ]
  },
  {
   "cell_type": "code",
   "execution_count": 63,
   "id": "0e7fd519",
   "metadata": {},
   "outputs": [
    {
     "name": "stdout",
     "output_type": "stream",
     "text": [
      "2256799804464 2256794718096\n"
     ]
    }
   ],
   "source": [
    "var1 = 1000\n",
    "var2 = 1000\n",
    "print(id(var1), id(var2))"
   ]
  },
  {
   "cell_type": "code",
   "execution_count": 93,
   "id": "006ad718",
   "metadata": {},
   "outputs": [],
   "source": [
    "# Operators\n",
    "# 1. Arithmatic Operators\n",
    "# 2. Logical Operators\n",
    "# 3. Comparision Operators"
   ]
  },
  {
   "cell_type": "code",
   "execution_count": 94,
   "id": "29419cc7",
   "metadata": {},
   "outputs": [],
   "source": [
    "# 1. Arithmatic Operators"
   ]
  },
  {
   "cell_type": "code",
   "execution_count": 75,
   "id": "8808ad2a",
   "metadata": {},
   "outputs": [],
   "source": [
    "var = 2"
   ]
  },
  {
   "cell_type": "code",
   "execution_count": 79,
   "id": "8880c42b",
   "metadata": {},
   "outputs": [
    {
     "name": "stdout",
     "output_type": "stream",
     "text": [
      "1.0\n"
     ]
    }
   ],
   "source": [
    "print(2 / 2)"
   ]
  },
  {
   "cell_type": "code",
   "execution_count": 82,
   "id": "b42c5026",
   "metadata": {},
   "outputs": [
    {
     "name": "stdout",
     "output_type": "stream",
     "text": [
      "2\n"
     ]
    }
   ],
   "source": [
    "print(50 % 3)"
   ]
  },
  {
   "cell_type": "code",
   "execution_count": 83,
   "id": "eefbf810",
   "metadata": {},
   "outputs": [
    {
     "name": "stdout",
     "output_type": "stream",
     "text": [
      "16\n"
     ]
    }
   ],
   "source": [
    "print(50 // 3)"
   ]
  },
  {
   "cell_type": "code",
   "execution_count": 88,
   "id": "35aac008",
   "metadata": {},
   "outputs": [
    {
     "name": "stdout",
     "output_type": "stream",
     "text": [
      "1024\n"
     ]
    }
   ],
   "source": [
    "print(2**10)"
   ]
  },
  {
   "cell_type": "code",
   "execution_count": 92,
   "id": "e8ecefc8",
   "metadata": {},
   "outputs": [
    {
     "name": "stdout",
     "output_type": "stream",
     "text": [
      "6\n"
     ]
    }
   ],
   "source": [
    "print((1 + 2) * 2)"
   ]
  },
  {
   "cell_type": "code",
   "execution_count": 95,
   "id": "ad47d81c",
   "metadata": {},
   "outputs": [],
   "source": [
    "# 3. Comparision Operators"
   ]
  },
  {
   "cell_type": "code",
   "execution_count": 102,
   "id": "c46a1c96",
   "metadata": {},
   "outputs": [
    {
     "data": {
      "text/plain": [
       "False"
      ]
     },
     "execution_count": 102,
     "metadata": {},
     "output_type": "execute_result"
    }
   ],
   "source": [
    "var == 50"
   ]
  },
  {
   "cell_type": "code",
   "execution_count": 103,
   "id": "ec51297f",
   "metadata": {},
   "outputs": [
    {
     "data": {
      "text/plain": [
       "5"
      ]
     },
     "execution_count": 103,
     "metadata": {},
     "output_type": "execute_result"
    }
   ],
   "source": [
    "var"
   ]
  },
  {
   "cell_type": "code",
   "execution_count": 108,
   "id": "2f8183e3",
   "metadata": {},
   "outputs": [
    {
     "data": {
      "text/plain": [
       "True"
      ]
     },
     "execution_count": 108,
     "metadata": {},
     "output_type": "execute_result"
    }
   ],
   "source": [
    "var >= 5"
   ]
  },
  {
   "cell_type": "code",
   "execution_count": 110,
   "id": "7763d684",
   "metadata": {},
   "outputs": [
    {
     "data": {
      "text/plain": [
       "True"
      ]
     },
     "execution_count": 110,
     "metadata": {},
     "output_type": "execute_result"
    }
   ],
   "source": [
    "var != 10"
   ]
  },
  {
   "cell_type": "code",
   "execution_count": 112,
   "id": "e7f5ea5b",
   "metadata": {},
   "outputs": [],
   "source": [
    "# 2. Logical Operators\n",
    "# and or not"
   ]
  },
  {
   "cell_type": "code",
   "execution_count": 116,
   "id": "d4c4ae10",
   "metadata": {},
   "outputs": [
    {
     "data": {
      "text/plain": [
       "False"
      ]
     },
     "execution_count": 116,
     "metadata": {},
     "output_type": "execute_result"
    }
   ],
   "source": [
    "False and True"
   ]
  },
  {
   "cell_type": "code",
   "execution_count": 117,
   "id": "6d3fab53",
   "metadata": {},
   "outputs": [
    {
     "data": {
      "text/plain": [
       "True"
      ]
     },
     "execution_count": 117,
     "metadata": {},
     "output_type": "execute_result"
    }
   ],
   "source": [
    "True and True"
   ]
  },
  {
   "cell_type": "code",
   "execution_count": 118,
   "id": "4d3bc896",
   "metadata": {},
   "outputs": [
    {
     "data": {
      "text/plain": [
       "True"
      ]
     },
     "execution_count": 118,
     "metadata": {},
     "output_type": "execute_result"
    }
   ],
   "source": [
    "False or True"
   ]
  },
  {
   "cell_type": "code",
   "execution_count": 119,
   "id": "79422a90",
   "metadata": {},
   "outputs": [
    {
     "data": {
      "text/plain": [
       "True"
      ]
     },
     "execution_count": 119,
     "metadata": {},
     "output_type": "execute_result"
    }
   ],
   "source": [
    "True or True"
   ]
  },
  {
   "cell_type": "code",
   "execution_count": 120,
   "id": "737a3b66",
   "metadata": {},
   "outputs": [
    {
     "data": {
      "text/plain": [
       "False"
      ]
     },
     "execution_count": 120,
     "metadata": {},
     "output_type": "execute_result"
    }
   ],
   "source": [
    "not True"
   ]
  },
  {
   "cell_type": "code",
   "execution_count": null,
   "id": "2b1aadad",
   "metadata": {},
   "outputs": [],
   "source": []
  }
 ],
 "metadata": {
  "kernelspec": {
   "display_name": "Python 3 (ipykernel)",
   "language": "python",
   "name": "python3"
  },
  "language_info": {
   "codemirror_mode": {
    "name": "ipython",
    "version": 3
   },
   "file_extension": ".py",
   "mimetype": "text/x-python",
   "name": "python",
   "nbconvert_exporter": "python",
   "pygments_lexer": "ipython3",
   "version": "3.8.10"
  }
 },
 "nbformat": 4,
 "nbformat_minor": 5
}
