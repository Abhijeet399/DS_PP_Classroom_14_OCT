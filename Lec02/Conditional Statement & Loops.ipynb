{
 "cells": [
  {
   "cell_type": "code",
   "execution_count": 1,
   "id": "ec43eb6f",
   "metadata": {},
   "outputs": [],
   "source": [
    "a = 10\n",
    "b = a"
   ]
  },
  {
   "cell_type": "code",
   "execution_count": 2,
   "id": "9170051b",
   "metadata": {},
   "outputs": [
    {
     "name": "stdout",
     "output_type": "stream",
     "text": [
      "140724735711280 140724735711280\n"
     ]
    }
   ],
   "source": [
    "print(id(a), id(b))"
   ]
  },
  {
   "cell_type": "code",
   "execution_count": 4,
   "id": "a03ec0c9",
   "metadata": {},
   "outputs": [
    {
     "name": "stdout",
     "output_type": "stream",
     "text": [
      "140724735711280 140724735711600 10 20\n"
     ]
    }
   ],
   "source": [
    "b = 20\n",
    "print(id(a), id(b), a, b)"
   ]
  },
  {
   "cell_type": "code",
   "execution_count": 10,
   "id": "f5339753",
   "metadata": {},
   "outputs": [
    {
     "name": "stdout",
     "output_type": "stream",
     "text": [
      "1713118539568 1713118537360\n"
     ]
    }
   ],
   "source": [
    "var1 = -6\n",
    "var2 = -6\n",
    "print(id(var1), id(var2))"
   ]
  },
  {
   "cell_type": "code",
   "execution_count": 11,
   "id": "fbbf7b12",
   "metadata": {},
   "outputs": [
    {
     "data": {
      "text/plain": [
       "int"
      ]
     },
     "execution_count": 11,
     "metadata": {},
     "output_type": "execute_result"
    }
   ],
   "source": [
    "type(a)"
   ]
  },
  {
   "cell_type": "code",
   "execution_count": 13,
   "id": "8805ecad",
   "metadata": {},
   "outputs": [
    {
     "name": "stdout",
     "output_type": "stream",
     "text": [
      "1713111945584 1713111945584\n"
     ]
    }
   ],
   "source": [
    "var1 = 'hello'\n",
    "var2 = var1\n",
    "print(id(var2), id(var1))"
   ]
  },
  {
   "cell_type": "code",
   "execution_count": 14,
   "id": "2e8854d9",
   "metadata": {},
   "outputs": [],
   "source": [
    "var1 = 'hi'"
   ]
  },
  {
   "cell_type": "code",
   "execution_count": 15,
   "id": "612eb13c",
   "metadata": {},
   "outputs": [
    {
     "name": "stdout",
     "output_type": "stream",
     "text": [
      "1713111945584 1713056297264\n"
     ]
    }
   ],
   "source": [
    "print(id(var2), id(var1))"
   ]
  },
  {
   "cell_type": "code",
   "execution_count": 22,
   "id": "8777237d",
   "metadata": {},
   "outputs": [],
   "source": [
    "# Conditional Statements\n",
    "# 1. If\n",
    "# 2. Else\n",
    "# 3. Elif"
   ]
  },
  {
   "cell_type": "code",
   "execution_count": 45,
   "id": "42c82c03",
   "metadata": {},
   "outputs": [
    {
     "name": "stdout",
     "output_type": "stream",
     "text": [
      "A\n"
     ]
    }
   ],
   "source": [
    "print('A')"
   ]
  },
  {
   "cell_type": "code",
   "execution_count": 57,
   "id": "7ce41136",
   "metadata": {},
   "outputs": [],
   "source": [
    "marks = 78"
   ]
  },
  {
   "cell_type": "code",
   "execution_count": 58,
   "id": "ac778ce5",
   "metadata": {},
   "outputs": [
    {
     "name": "stdout",
     "output_type": "stream",
     "text": [
      "pass\n",
      "B+\n"
     ]
    }
   ],
   "source": [
    "marks = 78\n",
    "if (marks > 33):\n",
    "    print('pass')\n",
    "else:\n",
    "    print('Fail')\n",
    "if (marks > 90):\n",
    "    print('A+')\n",
    "elif (marks > 80):\n",
    "    print('A')\n",
    "elif(marks > 70):\n",
    "    print('B+')\n",
    "elif (marks > 60):\n",
    "    print('B')\n",
    "elif (marks > 50):\n",
    "    print('C')\n",
    "elif (marks > 40):\n",
    "    print('D')"
   ]
  },
  {
   "cell_type": "code",
   "execution_count": 61,
   "id": "74df7245",
   "metadata": {},
   "outputs": [
    {
     "name": "stdout",
     "output_type": "stream",
     "text": [
      "Hi\n",
      "bye\n"
     ]
    }
   ],
   "source": [
    "marks = 52\n",
    "if (marks > 100):\n",
    "    print('Hello')\n",
    "elif (marks > 50):\n",
    "    print('Hi')\n",
    "if (marks > 100):\n",
    "    print('Hula Hula')\n",
    "else:\n",
    "    print('bye')"
   ]
  },
  {
   "cell_type": "code",
   "execution_count": 64,
   "id": "4b1c03b5",
   "metadata": {},
   "outputs": [
    {
     "name": "stdout",
     "output_type": "stream",
     "text": [
      "1\n",
      "2\n",
      "3\n",
      "fail\n"
     ]
    }
   ],
   "source": [
    "marks = 85\n",
    "if (marks > 1):\n",
    "    print('1')\n",
    "if (marks > 2):\n",
    "    print('2')\n",
    "if (marks > 3):\n",
    "    print('3')\n",
    "if (marks > 400):\n",
    "    print('400')\n",
    "elif (marks > 800):\n",
    "    print('800')\n",
    "else:\n",
    "    print('fail')"
   ]
  },
  {
   "cell_type": "code",
   "execution_count": 67,
   "id": "ec0850c7",
   "metadata": {},
   "outputs": [
    {
     "name": "stdout",
     "output_type": "stream",
     "text": [
      "pass\n",
      "B+\n"
     ]
    }
   ],
   "source": [
    "marks = 85\n",
    "if (marks > 33):\n",
    "    print('pass')\n",
    "else:\n",
    "    print('Fail')\n",
    "if (marks >= 90):\n",
    "    print('A+')\n",
    "elif (marks >= 70) and (marks < 80):\n",
    "    print('B+')\n",
    "elif (marks >= 80) and (marks < 90):\n",
    "    print('A')\n",
    "elif (marks >= 60) and (marks < 70):\n",
    "    print('B')\n",
    "elif (marks >= 50) and (marks < 60):\n",
    "    print('C')\n",
    "elif (marks > 40):\n",
    "    print('D')"
   ]
  },
  {
   "cell_type": "code",
   "execution_count": 76,
   "id": "d8176766",
   "metadata": {},
   "outputs": [
    {
     "name": "stdout",
     "output_type": "stream",
     "text": [
      "Odd\n"
     ]
    }
   ],
   "source": [
    "num = 101\n",
    "if num % 2 == 0:\n",
    "    print('Even')\n",
    "else:\n",
    "    print('Odd')"
   ]
  },
  {
   "cell_type": "code",
   "execution_count": 79,
   "id": "a870ae72",
   "metadata": {},
   "outputs": [],
   "source": [
    "# Loops\n",
    "# 1. For \n",
    "# 2. While"
   ]
  },
  {
   "cell_type": "code",
   "execution_count": 80,
   "id": "ca3ac082",
   "metadata": {},
   "outputs": [
    {
     "name": "stdout",
     "output_type": "stream",
     "text": [
      "10\n",
      "9\n",
      "8\n",
      "7\n",
      "6\n",
      "5\n",
      "4\n",
      "3\n",
      "2\n",
      "1\n"
     ]
    }
   ],
   "source": [
    "# 2. While\n",
    "\n",
    "a = 10\n",
    "while (a > 0):\n",
    "    print(a)\n",
    "    a -= 1"
   ]
  },
  {
   "cell_type": "code",
   "execution_count": 81,
   "id": "d591da7f",
   "metadata": {},
   "outputs": [
    {
     "data": {
      "text/plain": [
       "0"
      ]
     },
     "execution_count": 81,
     "metadata": {},
     "output_type": "execute_result"
    }
   ],
   "source": [
    "a"
   ]
  },
  {
   "cell_type": "code",
   "execution_count": 82,
   "id": "a935d7ff",
   "metadata": {},
   "outputs": [],
   "source": [
    "# Terminating Statements"
   ]
  },
  {
   "cell_type": "code",
   "execution_count": 83,
   "id": "42ce22e9",
   "metadata": {},
   "outputs": [
    {
     "name": "stdout",
     "output_type": "stream",
     "text": [
      "10\n",
      "9\n",
      "8\n",
      "7\n",
      "6\n",
      "5\n",
      "4\n",
      "3\n",
      "2\n",
      "1\n"
     ]
    }
   ],
   "source": [
    "a = 10\n",
    "while (True):\n",
    "    print(a)\n",
    "    a -= 1\n",
    "    if (a == 0):\n",
    "        break"
   ]
  },
  {
   "cell_type": "code",
   "execution_count": 106,
   "id": "0101a072",
   "metadata": {},
   "outputs": [
    {
     "name": "stdout",
     "output_type": "stream",
     "text": [
      "prime\n"
     ]
    }
   ],
   "source": [
    "num = 67\n",
    "flag = 0\n",
    "i = 2\n",
    "while (i < int(num/2) + 1):\n",
    "    if (num % i) == 0:\n",
    "        print('Not a prime number')\n",
    "        flag = 1\n",
    "        break\n",
    "#         factors += 1\n",
    "    i += 1\n",
    "    \n",
    "if flag:\n",
    "    print('Not prime')\n",
    "else:\n",
    "    print('prime')"
   ]
  },
  {
   "cell_type": "code",
   "execution_count": 87,
   "id": "5809e97b",
   "metadata": {},
   "outputs": [
    {
     "name": "stdout",
     "output_type": "stream",
     "text": [
      "Not prime\n"
     ]
    }
   ],
   "source": [
    "if factors > 2:\n",
    "    print('Not prime')\n",
    "else:\n",
    "    print('prime')"
   ]
  },
  {
   "cell_type": "code",
   "execution_count": 91,
   "id": "144e66e6",
   "metadata": {},
   "outputs": [],
   "source": [
    "# Type-casting\n",
    "# 1. Implicit Typecasting\n",
    "# 2. Explicit Typecasting"
   ]
  },
  {
   "cell_type": "code",
   "execution_count": 92,
   "id": "d4bc62c1",
   "metadata": {},
   "outputs": [
    {
     "name": "stdout",
     "output_type": "stream",
     "text": [
      "1.0\n"
     ]
    }
   ],
   "source": [
    "print(2 / 2)"
   ]
  },
  {
   "cell_type": "code",
   "execution_count": 93,
   "id": "dd3028f8",
   "metadata": {},
   "outputs": [],
   "source": [
    "var = 9.9"
   ]
  },
  {
   "cell_type": "code",
   "execution_count": 94,
   "id": "61945c01",
   "metadata": {},
   "outputs": [],
   "source": [
    "var = int(var)"
   ]
  },
  {
   "cell_type": "code",
   "execution_count": 95,
   "id": "b3154b78",
   "metadata": {},
   "outputs": [
    {
     "name": "stdout",
     "output_type": "stream",
     "text": [
      "9\n"
     ]
    }
   ],
   "source": [
    "print(var)"
   ]
  },
  {
   "cell_type": "code",
   "execution_count": 104,
   "id": "e756cead",
   "metadata": {},
   "outputs": [],
   "source": [
    "var = bool(-2)"
   ]
  },
  {
   "cell_type": "code",
   "execution_count": 105,
   "id": "896e2f6e",
   "metadata": {},
   "outputs": [
    {
     "data": {
      "text/plain": [
       "True"
      ]
     },
     "execution_count": 105,
     "metadata": {},
     "output_type": "execute_result"
    }
   ],
   "source": [
    "var"
   ]
  },
  {
   "cell_type": "code",
   "execution_count": 110,
   "id": "25f8563d",
   "metadata": {},
   "outputs": [
    {
     "name": "stdout",
     "output_type": "stream",
     "text": [
      "12\n"
     ]
    }
   ],
   "source": [
    "print(1, end = '')\n",
    "print(2)"
   ]
  },
  {
   "cell_type": "code",
   "execution_count": 118,
   "id": "5511458a",
   "metadata": {},
   "outputs": [
    {
     "name": "stdout",
     "output_type": "stream",
     "text": [
      "* \n",
      "* * \n",
      "* * * \n",
      "* * * * \n",
      "* * * * * \n"
     ]
    }
   ],
   "source": [
    "n = 5\n",
    "i = 0\n",
    "\n",
    "while (i < n):\n",
    "    j = 0\n",
    "    while (j <= i):\n",
    "        print('* ', end='')\n",
    "        j += 1\n",
    "    print()\n",
    "    i+=1"
   ]
  },
  {
   "cell_type": "code",
   "execution_count": 120,
   "id": "5c5f4a29",
   "metadata": {},
   "outputs": [
    {
     "name": "stdout",
     "output_type": "stream",
     "text": [
      "* * * * * \n",
      "* * * * \n",
      "* * * \n",
      "* * \n",
      "* \n"
     ]
    }
   ],
   "source": [
    "n = 5\n",
    "i = 0\n",
    "\n",
    "while (i < n):\n",
    "    j = n - i\n",
    "    while (j > 0):\n",
    "        print('* ', end='')\n",
    "        j -= 1\n",
    "    print()\n",
    "    i+=1"
   ]
  },
  {
   "cell_type": "code",
   "execution_count": null,
   "id": "89cb96dc",
   "metadata": {},
   "outputs": [],
   "source": []
  }
 ],
 "metadata": {
  "kernelspec": {
   "display_name": "Python 3 (ipykernel)",
   "language": "python",
   "name": "python3"
  },
  "language_info": {
   "codemirror_mode": {
    "name": "ipython",
    "version": 3
   },
   "file_extension": ".py",
   "mimetype": "text/x-python",
   "name": "python",
   "nbconvert_exporter": "python",
   "pygments_lexer": "ipython3",
   "version": "3.8.10"
  }
 },
 "nbformat": 4,
 "nbformat_minor": 5
}
