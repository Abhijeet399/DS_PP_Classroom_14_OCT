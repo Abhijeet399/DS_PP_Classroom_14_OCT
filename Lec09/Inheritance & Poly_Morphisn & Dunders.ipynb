{
 "cells": [
  {
   "cell_type": "code",
   "execution_count": 1,
   "id": "4f0d3dc7",
   "metadata": {},
   "outputs": [],
   "source": [
    "class SchoolMembers:\n",
    "    \n",
    "    def __init__(self, name, age):\n",
    "        self.name = name\n",
    "        self.age = age\n",
    "        print(f'Initialised a School Member: {self.name}')\n",
    "        \n",
    "    def details(self):\n",
    "        print(f'Name: {self.name}, Age: {self.age}')"
   ]
  },
  {
   "cell_type": "code",
   "execution_count": 24,
   "id": "0a36295e",
   "metadata": {},
   "outputs": [],
   "source": [
    "class Teachers(SchoolMembers):\n",
    "    \n",
    "    def __init__(self, name, age, salary):\n",
    "        SchoolMembers.__init__(self, name, age)\n",
    "        self.salary = salary\n",
    "        print(f'Initialised teacher: {self.name}')\n",
    "        \n",
    "    def details(self):\n",
    "        SchoolMembers.details(self)\n",
    "        print(f'Salary: {self.salary}')"
   ]
  },
  {
   "cell_type": "code",
   "execution_count": 25,
   "id": "0c4d437a",
   "metadata": {},
   "outputs": [
    {
     "name": "stdout",
     "output_type": "stream",
     "text": [
      "Initialised a School Member: Abhijeet\n",
      "Initialised teacher: Abhijeet\n"
     ]
    }
   ],
   "source": [
    "abhijeet = Teachers('Abhijeet', 23, 200)"
   ]
  },
  {
   "cell_type": "code",
   "execution_count": 26,
   "id": "62adf383",
   "metadata": {},
   "outputs": [
    {
     "name": "stdout",
     "output_type": "stream",
     "text": [
      "Name: Abhijeet, Age: 23\n",
      "Salary: 200\n"
     ]
    }
   ],
   "source": [
    "abhijeet.details()"
   ]
  },
  {
   "cell_type": "code",
   "execution_count": 27,
   "id": "e590dd96",
   "metadata": {},
   "outputs": [
    {
     "name": "stdout",
     "output_type": "stream",
     "text": [
      "Initialised a School Member: a\n",
      "Initialised teacher: a\n",
      "Name: a, Age: 2\n",
      "Salary: 2\n"
     ]
    }
   ],
   "source": [
    "Teachers('a', 2, 2).details()"
   ]
  },
  {
   "cell_type": "code",
   "execution_count": 28,
   "id": "87a257fb",
   "metadata": {},
   "outputs": [
    {
     "name": "stdout",
     "output_type": "stream",
     "text": [
      "Value of: 10 and 20\n"
     ]
    }
   ],
   "source": [
    "a = 10\n",
    "b = 20\n",
    "print(f'Value of: {a} and {b}')"
   ]
  },
  {
   "cell_type": "code",
   "execution_count": 29,
   "id": "4e98d9a0",
   "metadata": {},
   "outputs": [],
   "source": [
    "class Student(SchoolMembers):\n",
    "    \n",
    "    def __init__(self, name, age, marks):\n",
    "        super().__init__(name, age)\n",
    "        self.marks = marks\n",
    "        print(f'Initialised Student: {self.name}')\n",
    "        \n",
    "    def details(self):\n",
    "        super().details()\n",
    "        print(f'Student marks: {self.marks}')"
   ]
  },
  {
   "cell_type": "code",
   "execution_count": 77,
   "id": "bf2c9917",
   "metadata": {},
   "outputs": [
    {
     "name": "stdout",
     "output_type": "stream",
     "text": [
      "Initialised a School Member: abhijeet\n",
      "Initialised Student: abhijeet\n",
      "Initialised a School Member: Manya\n",
      "Initialised Student: Manya\n"
     ]
    }
   ],
   "source": [
    "abhijeet = Student('abhijeet', 23, 50)\n",
    "manya = Student('Manya', 20, 95)"
   ]
  },
  {
   "cell_type": "code",
   "execution_count": 31,
   "id": "a1bb11b2",
   "metadata": {},
   "outputs": [
    {
     "name": "stdout",
     "output_type": "stream",
     "text": [
      "Name: abhijeet, Age: 23\n",
      "Student marks: 50\n"
     ]
    }
   ],
   "source": [
    "abhijeet.details()"
   ]
  },
  {
   "cell_type": "code",
   "execution_count": 54,
   "id": "926867e8",
   "metadata": {},
   "outputs": [
    {
     "name": "stdout",
     "output_type": "stream",
     "text": [
      "In class 4\n"
     ]
    }
   ],
   "source": [
    "class class1:\n",
    "    \n",
    "    def details(self):\n",
    "        print('In class 1')\n",
    "        \n",
    "class class2(class1):\n",
    "    def details(self):\n",
    "        print('In class 2')\n",
    "#     pass\n",
    "\n",
    "class class3(class1):\n",
    "    \n",
    "    def details(self):\n",
    "        print('In class 3')\n",
    "        \n",
    "class class4(class2, class3):\n",
    "    \n",
    "#     def details(self):\n",
    "    print('In class 4')"
   ]
  },
  {
   "cell_type": "code",
   "execution_count": 55,
   "id": "7f19f587",
   "metadata": {},
   "outputs": [],
   "source": [
    "obj = class4()"
   ]
  },
  {
   "cell_type": "code",
   "execution_count": 56,
   "id": "f01eea91",
   "metadata": {},
   "outputs": [
    {
     "name": "stdout",
     "output_type": "stream",
     "text": [
      "In class 2\n"
     ]
    }
   ],
   "source": [
    "obj.details()"
   ]
  },
  {
   "cell_type": "code",
   "execution_count": 58,
   "id": "6ebea020",
   "metadata": {},
   "outputs": [
    {
     "name": "stdout",
     "output_type": "stream",
     "text": [
      "10\n",
      "20\n"
     ]
    }
   ],
   "source": [
    "print(a)\n",
    "a = 20\n",
    "print(a)"
   ]
  },
  {
   "cell_type": "code",
   "execution_count": 60,
   "id": "82dda905",
   "metadata": {},
   "outputs": [
    {
     "name": "stdout",
     "output_type": "stream",
     "text": [
      "<class 'int'>\n"
     ]
    }
   ],
   "source": [
    "print(type(20))"
   ]
  },
  {
   "cell_type": "code",
   "execution_count": 62,
   "id": "77363438",
   "metadata": {},
   "outputs": [
    {
     "name": "stdout",
     "output_type": "stream",
     "text": [
      "<class 'str'>\n"
     ]
    }
   ],
   "source": [
    "print(type('2.1'))"
   ]
  },
  {
   "cell_type": "code",
   "execution_count": 63,
   "id": "c30ebc1e",
   "metadata": {},
   "outputs": [
    {
     "name": "stdout",
     "output_type": "stream",
     "text": [
      "<class 'type'>\n"
     ]
    }
   ],
   "source": [
    "print(type(range))"
   ]
  },
  {
   "cell_type": "code",
   "execution_count": 64,
   "id": "6aa01429",
   "metadata": {},
   "outputs": [],
   "source": [
    "a = 10"
   ]
  },
  {
   "cell_type": "code",
   "execution_count": 71,
   "id": "e930c8d5",
   "metadata": {},
   "outputs": [
    {
     "name": "stdout",
     "output_type": "stream",
     "text": [
      "True\n"
     ]
    }
   ],
   "source": [
    "print(isinstance([1, 2, 3], object))"
   ]
  },
  {
   "cell_type": "code",
   "execution_count": 73,
   "id": "2fcf5a8e",
   "metadata": {},
   "outputs": [],
   "source": [
    "a = 10\n",
    "b = 20"
   ]
  },
  {
   "cell_type": "code",
   "execution_count": 74,
   "id": "f5982990",
   "metadata": {},
   "outputs": [
    {
     "name": "stdout",
     "output_type": "stream",
     "text": [
      "30\n"
     ]
    }
   ],
   "source": [
    "print(a + b)"
   ]
  },
  {
   "cell_type": "code",
   "execution_count": 76,
   "id": "6a4cc503",
   "metadata": {},
   "outputs": [
    {
     "data": {
      "text/plain": [
       "True"
      ]
     },
     "execution_count": 76,
     "metadata": {},
     "output_type": "execute_result"
    }
   ],
   "source": [
    "isinstance(abhijeet, object)"
   ]
  },
  {
   "cell_type": "code",
   "execution_count": 102,
   "id": "6c4c82d3",
   "metadata": {},
   "outputs": [],
   "source": [
    "class Kuch_bhi2:\n",
    "    \n",
    "    def __init__(self, name, age):\n",
    "        self.name = name\n",
    "        self.age = age\n",
    "        \n",
    "    def __add__(self, other):\n",
    "        print(f'Added value: {self.age + other.age}')\n",
    "        \n",
    "    def __sub__(self, other):\n",
    "        print(f'Subtracted value: {self.age - other.age}')\n",
    "        \n",
    "    def __eq__(self, other):\n",
    "        print(f'It is: {self.age == other.age}')"
   ]
  },
  {
   "cell_type": "code",
   "execution_count": 103,
   "id": "bdbdb34e",
   "metadata": {},
   "outputs": [],
   "source": [
    "abhijeet = Kuch_bhi2('Abhijeet', 23)\n",
    "manya = Kuch_bhi2('Manya', 20)"
   ]
  },
  {
   "cell_type": "code",
   "execution_count": 104,
   "id": "c5360810",
   "metadata": {},
   "outputs": [
    {
     "name": "stdout",
     "output_type": "stream",
     "text": [
      "Added value: 43\n"
     ]
    }
   ],
   "source": [
    "abhijeet + manya"
   ]
  },
  {
   "cell_type": "code",
   "execution_count": 105,
   "id": "3d267da7",
   "metadata": {},
   "outputs": [
    {
     "name": "stdout",
     "output_type": "stream",
     "text": [
      "Subtracted value: 3\n"
     ]
    }
   ],
   "source": [
    "abhijeet - manya"
   ]
  },
  {
   "cell_type": "code",
   "execution_count": 106,
   "id": "ff144762",
   "metadata": {},
   "outputs": [
    {
     "name": "stdout",
     "output_type": "stream",
     "text": [
      "It is: False\n"
     ]
    }
   ],
   "source": [
    "abhijeet == manya"
   ]
  },
  {
   "cell_type": "code",
   "execution_count": 96,
   "id": "8e34e070",
   "metadata": {},
   "outputs": [
    {
     "data": {
      "text/plain": [
       "'a + ba - b'"
      ]
     },
     "execution_count": 96,
     "metadata": {},
     "output_type": "execute_result"
    }
   ],
   "source": [
    "'a + b' + 'a - b'"
   ]
  },
  {
   "cell_type": "code",
   "execution_count": 110,
   "id": "6244d5d2",
   "metadata": {},
   "outputs": [
    {
     "name": "stdout",
     "output_type": "stream",
     "text": [
      "True\n"
     ]
    }
   ],
   "source": [
    "print(isinstance('2', str))"
   ]
  },
  {
   "cell_type": "code",
   "execution_count": null,
   "id": "6febe021",
   "metadata": {},
   "outputs": [],
   "source": []
  }
 ],
 "metadata": {
  "kernelspec": {
   "display_name": "Python 3 (ipykernel)",
   "language": "python",
   "name": "python3"
  },
  "language_info": {
   "codemirror_mode": {
    "name": "ipython",
    "version": 3
   },
   "file_extension": ".py",
   "mimetype": "text/x-python",
   "name": "python",
   "nbconvert_exporter": "python",
   "pygments_lexer": "ipython3",
   "version": "3.8.10"
  }
 },
 "nbformat": 4,
 "nbformat_minor": 5
}
